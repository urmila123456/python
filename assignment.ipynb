{
 "cells": [
  {
   "cell_type": "code",
   "execution_count": null,
   "id": "5aae7fbe",
   "metadata": {},
   "outputs": [],
   "source": []
  },
  {
   "cell_type": "markdown",
   "id": "a8003f94",
   "metadata": {},
   "source": []
  },
  {
   "cell_type": "code",
   "execution_count": 33,
   "id": "cc157554",
   "metadata": {},
   "outputs": [
    {
     "name": "stdout",
     "output_type": "stream",
     "text": [
      "The ASCII value of 'g' is 103\n"
     ]
    }
   ],
   "source": [
    "# Python program to print\n",
    "# ASCII Value of Character\n",
    " \n",
    "# In c we can assign different\n",
    "# characters of which we want ASCII value\n",
    " \n",
    "c = 'g'\n",
    "# print the ASCII value of assigned character in c\n",
    "print(\"The ASCII value of '\" + c + \"' is\", ord(c))"
   ]
  },
  {
   "cell_type": "code",
   "execution_count": 37,
   "id": "ef7c82ea",
   "metadata": {},
   "outputs": [
    {
     "name": "stdout",
     "output_type": "stream",
     "text": [
      "Enter a String: urmila\n",
      "u \t 117\n",
      "r \t 114\n",
      "m \t 109\n",
      "i \t 105\n",
      "l \t 108\n",
      "a \t 97\n"
     ]
    },
    {
     "ename": "NameError",
     "evalue": "name 'Output' is not defined",
     "output_type": "error",
     "traceback": [
      "\u001b[1;31m---------------------------------------------------------------------------\u001b[0m",
      "\u001b[1;31mNameError\u001b[0m                                 Traceback (most recent call last)",
      "Input \u001b[1;32mIn [37]\u001b[0m, in \u001b[0;36m<cell line: 7>\u001b[1;34m()\u001b[0m\n\u001b[0;32m      5\u001b[0m     ascii \u001b[38;5;241m=\u001b[39m \u001b[38;5;28mord\u001b[39m(char)\n\u001b[0;32m      6\u001b[0m     \u001b[38;5;28mprint\u001b[39m(char, \u001b[38;5;124m\"\u001b[39m\u001b[38;5;130;01m\\t\u001b[39;00m\u001b[38;5;124m\"\u001b[39m, ascii)\n\u001b[1;32m----> 7\u001b[0m \u001b[43mOutput\u001b[49m\n",
      "\u001b[1;31mNameError\u001b[0m: name 'Output' is not defined"
     ]
    }
   ],
   "source": [
    "print(\"Enter a String: \", end=\"\")\n",
    "text = input()\n",
    "textlength = len(text)\n",
    "for char in text:\n",
    "    ascii = ord(char)\n",
    "    print(char, \"\\t\", ascii)\n",
    "Output"
   ]
  },
  {
   "cell_type": "markdown",
   "id": "a5bbca78",
   "metadata": {},
   "source": [
    "**14.Python Program for Sum of squares of first n natural numbers**\n",
    "\n",
    "Input : N = 4\n",
    "Output : 30\n",
    " =1*1+2*2+3*3+4*4\n",
    "= 1+4+9+16\n",
    " =30\n",
    " \n",
    "\n",
    "\n"
   ]
  },
  {
   "cell_type": "code",
   "execution_count": 38,
   "id": "a0a8ea43",
   "metadata": {},
   "outputs": [
    {
     "name": "stdout",
     "output_type": "stream",
     "text": [
      "30\n"
     ]
    }
   ],
   "source": [
    "# Python3 Program to\n",
    "# find sum of square\n",
    "# of first n natural \n",
    "# numbers\n",
    "  \n",
    "  \n",
    "# Return the sum of\n",
    "# square of first n\n",
    "# natural numbers\n",
    "def squaresum(n) :\n",
    "  \n",
    "    # Iterate i from 1 \n",
    "    # and n finding \n",
    "    # square of i and\n",
    "    # add to sum.\n",
    "    sm = 0\n",
    "    for i in range(1, n+1) :\n",
    "        sm = sm + (i * i)\n",
    "      \n",
    "    return sm\n",
    "  \n",
    "# Driven Program\n",
    "n = 4\n",
    "print(squaresum(n))"
   ]
  },
  {
   "cell_type": "code",
   "execution_count": 39,
   "id": "ec3e555c",
   "metadata": {},
   "outputs": [
    {
     "name": "stdout",
     "output_type": "stream",
     "text": [
      "30\n"
     ]
    }
   ],
   "source": [
    "# Python3 Program to\n",
    "# find sum of square \n",
    "# of first n natural \n",
    "# numbers\n",
    "  \n",
    "# Return the sum of \n",
    "# square of first n\n",
    "# natural numbers\n",
    "def squaresum(n) :\n",
    "    return (n * (n + 1) * (2 * n + 1)) // 6\n",
    "  \n",
    "# Driven Program\n",
    "n = 4\n",
    "print(squaresum(n))"
   ]
  },
  {
   "cell_type": "code",
   "execution_count": 40,
   "id": "86e671e8",
   "metadata": {},
   "outputs": [
    {
     "name": "stdout",
     "output_type": "stream",
     "text": [
      "30.0\n"
     ]
    }
   ],
   "source": [
    "# Python Program to find sum of square of first\n",
    "# n natural numbers. This program avoids\n",
    "# overflow upto some extent for large value\n",
    "# of n.y\n",
    "  \n",
    "def squaresum(n):\n",
    "    return (n * (n + 1) / 2) * (2 * n + 1) / 3\n",
    "  \n",
    "# main()\n",
    "n = 4\n",
    "print(squaresum(n));\n",
    "  "
   ]
  },
  {
   "cell_type": "markdown",
   "id": "f417f6f2",
   "metadata": {},
   "source": [
    "**15.Python Program for cube sum of first n natural numbers**\n",
    "\n",
    "Print the sum of series 13 + 23 + 33 + 43 + …….+ n3 till n-th term. Examples:\n",
    "\n",
    "Input : n = 5\n",
    "Output : 225\n",
    "1^3 + 2^3 + 3^3 + 4^3 + 5^3 \n",
    "1+8+27+64+125=225"
   ]
  },
  {
   "cell_type": "code",
   "execution_count": 41,
   "id": "7cdeddbe",
   "metadata": {},
   "outputs": [
    {
     "name": "stdout",
     "output_type": "stream",
     "text": [
      "225\n"
     ]
    }
   ],
   "source": [
    "# Python code\n",
    "# to print cube sum of first n natural numbers\n",
    "# using inbuilt function pow()\n",
    " \n",
    "n=5\n",
    "s=0\n",
    "# iterating loop up to given number n\n",
    "for i in range(1,n+1):\n",
    "    # adding cube sum using pow() function\n",
    "    s=s+pow(i,3)\n",
    "print(s)   "
   ]
  },
  {
   "cell_type": "markdown",
   "id": "678b3f87",
   "metadata": {},
   "source": [
    "# List Programs:\n",
    "\n"
   ]
  },
  {
   "cell_type": "markdown",
   "id": "a2440283",
   "metadata": {},
   "source": [
    "**1.Python program to interchange first and last elements in a list**\n",
    "example:\n",
    "\n",
    "Input : [12, 35, 9, 56, 24]\n",
    "Output : [24, 35, 9, 56, 12]"
   ]
  },
  {
   "cell_type": "code",
   "execution_count": 42,
   "id": "f6d0809e",
   "metadata": {},
   "outputs": [
    {
     "name": "stdout",
     "output_type": "stream",
     "text": [
      "[24, 35, 9, 56, 12]\n"
     ]
    }
   ],
   "source": [
    "# Python3 program to swap first\n",
    "# and last element of a list\n",
    " \n",
    "# Swap function\n",
    "def swapList(newList):\n",
    "    size = len(newList)\n",
    "     \n",
    "    # Swapping\n",
    "    temp = newList[0]\n",
    "    newList[0] = newList[size - 1]\n",
    "    newList[size - 1] = temp\n",
    "     \n",
    "    return newList\n",
    "     \n",
    "# Driver code\n",
    "newList = [12, 35, 9, 56, 24]\n",
    " \n",
    "print(swapList(newList))"
   ]
  },
  {
   "cell_type": "code",
   "execution_count": 43,
   "id": "89273c1c",
   "metadata": {},
   "outputs": [
    {
     "name": "stdout",
     "output_type": "stream",
     "text": [
      "[24, 35, 9, 56, 12]\n"
     ]
    }
   ],
   "source": [
    "# Python3 program to swap first\n",
    "# and last element of a list\n",
    " \n",
    "# Swap function\n",
    "def swapList(newList):\n",
    "     \n",
    "    newList[0], newList[-1] = newList[-1], newList[0]\n",
    " \n",
    "    return newList\n",
    "     \n",
    "# Driver code\n",
    "newList = [12, 35, 9, 56, 24]\n",
    "print(swapList(newList))"
   ]
  },
  {
   "cell_type": "code",
   "execution_count": 44,
   "id": "de0e0247",
   "metadata": {},
   "outputs": [
    {
     "name": "stdout",
     "output_type": "stream",
     "text": [
      "[24, 35, 9, 56, 12]\n"
     ]
    }
   ],
   "source": [
    "# Python3 program to swap first\n",
    "# and last element of a list\n",
    " \n",
    "# Swap function\n",
    "def swapList(list):\n",
    "     \n",
    "    # Storing the first and last element\n",
    "    # as a pair in a tuple variable get\n",
    "    get = list[-1], list[0]\n",
    "     \n",
    "    # unpacking those elements\n",
    "    list[0], list[-1] = get\n",
    "     \n",
    "    return list\n",
    "     \n",
    "# Driver code\n",
    "newList = [12, 35, 9, 56, 24]\n",
    "print(swapList(newList))"
   ]
  },
  {
   "cell_type": "code",
   "execution_count": 45,
   "id": "37e00f9a",
   "metadata": {},
   "outputs": [
    {
     "name": "stdout",
     "output_type": "stream",
     "text": [
      "[24, 35, 9, 56, 12]\n"
     ]
    }
   ],
   "source": [
    "# Python3 program to swap first\n",
    "# and last element of a list\n",
    " \n",
    "# Swap function\n",
    "def swapList(list):\n",
    "     \n",
    "    start, *middle, end = list\n",
    "    list = [end, *middle, start]\n",
    "     \n",
    "    return list\n",
    "     \n",
    "# Driver code\n",
    "newList = [12, 35, 9, 56, 24]\n",
    " \n",
    "print(swapList(newList))"
   ]
  },
  {
   "cell_type": "code",
   "execution_count": 46,
   "id": "9cb5a33e",
   "metadata": {},
   "outputs": [
    {
     "name": "stdout",
     "output_type": "stream",
     "text": [
      "[24, 35, 9, 56, 12]\n"
     ]
    }
   ],
   "source": [
    "# Python3 program to swap first\n",
    "# and last element of a list\n",
    " \n",
    "# Swap function\n",
    "def swapList(list):\n",
    "     \n",
    "    first = list.pop(0)  \n",
    "    last = list.pop(-1)\n",
    "     \n",
    "    list.insert(0, last) \n",
    "    list.append(first)  \n",
    "     \n",
    "    return list\n",
    "     \n",
    "# Driver code\n",
    "newList = [12, 35, 9, 56, 24]\n",
    " \n",
    "print(swapList(newList))"
   ]
  },
  {
   "cell_type": "markdown",
   "id": "515723d8",
   "metadata": {},
   "source": [
    "**2.Python program to swap two elements in a list**\n",
    "\n",
    "example:\n",
    "\n",
    "Input : List = [23, 65, 19, 90], pos1 = 1, pos2 = 3\n",
    "Output : [19, 65, 23, 90]\n"
   ]
  },
  {
   "cell_type": "code",
   "execution_count": 47,
   "id": "f48ea9a7",
   "metadata": {},
   "outputs": [
    {
     "name": "stdout",
     "output_type": "stream",
     "text": [
      "[19, 65, 23, 90]\n"
     ]
    }
   ],
   "source": [
    "# Python3 program to swap elements\n",
    "# at given positions\n",
    " \n",
    "# Swap function\n",
    "def swapPositions(list, pos1, pos2):\n",
    "     \n",
    "    list[pos1], list[pos2] = list[pos2], list[pos1]\n",
    "    return list\n",
    " \n",
    "# Driver function\n",
    "List = [23, 65, 19, 90]\n",
    "pos1, pos2  = 1, 3\n",
    " \n",
    "print(swapPositions(List, pos1-1, pos2-1))"
   ]
  },
  {
   "cell_type": "code",
   "execution_count": 48,
   "id": "4dbb0456",
   "metadata": {},
   "outputs": [
    {
     "name": "stdout",
     "output_type": "stream",
     "text": [
      "[19, 65, 23, 90]\n"
     ]
    }
   ],
   "source": [
    "# Python3 program to swap elements\n",
    "# at given positions\n",
    " \n",
    "# Swap function\n",
    "def swapPositions(list, pos1, pos2):\n",
    "     \n",
    "    # popping both the elements from list\n",
    "    first_ele = list.pop(pos1)  \n",
    "    second_ele = list.pop(pos2-1)\n",
    "    \n",
    "    # inserting in each others positions\n",
    "    list.insert(pos1, second_ele) \n",
    "    list.insert(pos2, first_ele) \n",
    "     \n",
    "    return list\n",
    " \n",
    "# Driver function\n",
    "List = [23, 65, 19, 90]\n",
    "pos1, pos2  = 1, 3\n",
    " \n",
    "print(swapPositions(List, pos1-1, pos2-1))"
   ]
  },
  {
   "cell_type": "code",
   "execution_count": 49,
   "id": "08d1563d",
   "metadata": {},
   "outputs": [
    {
     "name": "stdout",
     "output_type": "stream",
     "text": [
      "[19, 65, 23, 90]\n"
     ]
    }
   ],
   "source": [
    "\n",
    "# given positions\n",
    " \n",
    "# Swap function\n",
    "def swapPositions(list, pos1, pos2):\n",
    " \n",
    "    # Storing the two elements\n",
    "    # as a pair in a tuple variable get\n",
    "    get = list[pos1], list[pos2]\n",
    "      \n",
    "    # unpacking those elements\n",
    "    list[pos2], list[pos1] = get\n",
    "      \n",
    "    return list\n",
    " \n",
    "# Driver Code\n",
    "List = [23, 65, 19, 90]\n",
    " \n",
    "pos1, pos2  = 1, 3\n",
    "print(swapPositions(List, pos1-1, pos2-1))"
   ]
  },
  {
   "cell_type": "markdown",
   "id": "8d4a06e7",
   "metadata": {},
   "source": [
    "**3.Python | Ways to find length of list**\n"
   ]
  },
  {
   "cell_type": "code",
   "execution_count": 50,
   "id": "09505519",
   "metadata": {},
   "outputs": [
    {
     "name": "stdout",
     "output_type": "stream",
     "text": [
      "The list is : [1, 4, 5, 7, 8]\n",
      "Length of list using naive method is : 5\n"
     ]
    }
   ],
   "source": [
    "\n",
    "\n",
    "# Python code to demonstrate\n",
    "# length of list\n",
    "# using naive method\n",
    " \n",
    "# Initializing list\n",
    "test_list = [ 1, 4, 5, 7, 8 ]\n",
    " \n",
    "# Printing test_list\n",
    "print (\"The list is : \" + str(test_list))\n",
    " \n",
    "# Finding length of list\n",
    "# using loop\n",
    "# Initializing counter\n",
    "counter = 0\n",
    "for i in test_list:\n",
    "     \n",
    "    # incrementing counter\n",
    "    counter = counter + 1\n",
    " \n",
    "# Printing length of list\n",
    "print (\"Length of list using naive method is : \" + str(counter))"
   ]
  },
  {
   "cell_type": "code",
   "execution_count": 51,
   "id": "ffa3fcb6",
   "metadata": {},
   "outputs": [
    {
     "name": "stdout",
     "output_type": "stream",
     "text": [
      "The length of list is:  4\n"
     ]
    }
   ],
   "source": [
    "\n",
    "\n",
    "# Python program to demonstrate working\n",
    "# of len()\n",
    "a = []\n",
    "a.append(\"Hello\")\n",
    "a.append(\"Geeks\")\n",
    "a.append(\"For\")\n",
    "a.append(\"Geeks\")\n",
    "print(\"The length of list is: \", len(a))"
   ]
  },
  {
   "cell_type": "code",
   "execution_count": 52,
   "id": "a940d47e",
   "metadata": {},
   "outputs": [
    {
     "name": "stdout",
     "output_type": "stream",
     "text": [
      "The length of list is:  3\n"
     ]
    }
   ],
   "source": [
    "\n",
    "\n",
    "# Python program to demonstrate working\n",
    "# of len()\n",
    "n = len([10, 20, 30])\n",
    "print(\"The length of list is: \", n)"
   ]
  },
  {
   "cell_type": "code",
   "execution_count": 53,
   "id": "608df2ef",
   "metadata": {},
   "outputs": [
    {
     "name": "stdout",
     "output_type": "stream",
     "text": [
      "The list is : [1, 4, 5, 7, 8]\n",
      "Length of list using len() is : 5\n",
      "Length of list using length_hint() is : 5\n"
     ]
    }
   ],
   "source": [
    "\n",
    "\n",
    "\n",
    "# Python code to demonstrate\n",
    "# length of list\n",
    "# using len() and length_hint\n",
    "from operator import length_hint\n",
    " \n",
    "# Initializing list\n",
    "test_list = [ 1, 4, 5, 7, 8 ]\n",
    " \n",
    "# Printing test_list\n",
    "print (\"The list is : \" + str(test_list))\n",
    " \n",
    "# Finding length of list\n",
    "# using len()\n",
    "list_len = len(test_list)\n",
    " \n",
    "# Finding length of list\n",
    "# using length_hint()\n",
    "list_len_hint = length_hint(test_list)\n",
    " \n",
    "# Printing length of list\n",
    "print (\"Length of list using len() is : \" + str(list_len))\n",
    "print (\"Length of list using length_hint() is : \" + str(list_len_hint))"
   ]
  },
  {
   "cell_type": "markdown",
   "id": "d169a65f",
   "metadata": {},
   "source": [
    "**4.Python | Ways to check if element exists in list**\n",
    "\n",
    "Example:\n",
    "\n",
    "list = test_list = [1, 6, 3, 5, 3, 4]\n",
    "Input: 3  # Check if 3 exist or not.\n",
    "Output: True\n",
    "\n",
    "Input: 7  # Check if 7 exist or not.\n",
    "Output: False"
   ]
  },
  {
   "cell_type": "code",
   "execution_count": 54,
   "id": "73c3afbc",
   "metadata": {},
   "outputs": [
    {
     "name": "stdout",
     "output_type": "stream",
     "text": [
      "not exist\n"
     ]
    }
   ],
   "source": [
    "# python code to Check if element exists in list or not\n",
    "\n",
    "##Example 1: Check if an element exists in the list using the if-else statement\n",
    " \n",
    "lst=[ 1, 6, 3, 5, 3, 4 ]\n",
    "#checking if element 7 is present\n",
    "# in the given list or not\n",
    "i=7\n",
    "# if element present then return\n",
    "# exist otherwise not exist\n",
    "if i in lst:\n",
    "    print(\"exist\")\n",
    "else:\n",
    "    print(\"not exist\")"
   ]
  },
  {
   "cell_type": "code",
   "execution_count": 55,
   "id": "69a2ecc1",
   "metadata": {},
   "outputs": [
    {
     "name": "stdout",
     "output_type": "stream",
     "text": [
      "Element Exists\n"
     ]
    }
   ],
   "source": [
    "##Example 2: Check if an element exists in the list using a loop \n",
    "\n",
    "# Initializing list\n",
    "test_list = [1, 6, 3, 5, 3, 4]\n",
    " \n",
    "# Checking if 4 exists in list\n",
    "for i in test_list:\n",
    "    if(i == 4):\n",
    "        print(\"Element Exists\")"
   ]
  },
  {
   "cell_type": "code",
   "execution_count": 56,
   "id": "df25f75b",
   "metadata": {},
   "outputs": [
    {
     "name": "stdout",
     "output_type": "stream",
     "text": [
      "Element Exists\n"
     ]
    }
   ],
   "source": [
    "##Example 3: Check if an element exists in the list using “in”. \n",
    "\n",
    "\n",
    "# Initializing list\n",
    "test_list = [1, 6, 3, 5, 3, 4]\n",
    " \n",
    "# Checking if 4 exists in list\n",
    "# using in\n",
    "if (4 in test_list):\n",
    "    print(\"Element Exists\")"
   ]
  },
  {
   "cell_type": "code",
   "execution_count": 57,
   "id": "c9931cab",
   "metadata": {},
   "outputs": [
    {
     "name": "stdout",
     "output_type": "stream",
     "text": [
      "Does string contain any list element : True\n"
     ]
    }
   ],
   "source": [
    "##Example 4: Check if an element exists in the list using any() function\n",
    "\n",
    "# Initializing list\n",
    "test_list = [1, 6, 3, 5, 3, 4]\n",
    " \n",
    "result = any(item in test_list for item in test_list)\n",
    "print(\"Does string contain any list element : \" +str(bool(result)))"
   ]
  },
  {
   "cell_type": "code",
   "execution_count": 58,
   "id": "ad3d37f5",
   "metadata": {},
   "outputs": [
    {
     "name": "stdout",
     "output_type": "stream",
     "text": [
      "Checking if 15 exists in list\n",
      "Yes, 15 exists in list\n"
     ]
    }
   ],
   "source": [
    "##Method 2: Check if an element exists in the list using count()\n",
    "\n",
    "\n",
    "# Initializing list\n",
    "test_list = [10, 15, 20, 7, 46, 2808]\n",
    " \n",
    "print(\"Checking if 15 exists in list\")\n",
    " \n",
    "# number of times element exists in list\n",
    "exist_count = test_list.count(15)\n",
    " \n",
    "# checking if it is more then 0\n",
    "if exist_count > 0:\n",
    "    print(\"Yes, 15 exists in list\")\n",
    "else:\n",
    "    print(\"No, 15 does not exists in list\")"
   ]
  },
  {
   "cell_type": "code",
   "execution_count": 59,
   "id": "654ef05a",
   "metadata": {},
   "outputs": [
    {
     "name": "stdout",
     "output_type": "stream",
     "text": [
      "Checking if 4 exists in list ( using set() + in) : \n",
      "Element Exists\n",
      "Checking if 4 exists in list ( using sort() + bisect_left() ) : \n",
      "Element Exists\n"
     ]
    }
   ],
   "source": [
    "\n",
    "##Method 3: Check if an element exists in the list using sort + bicect_left + set\n",
    "\n",
    "from bisect import bisect_left ,bisect\n",
    " \n",
    "# Initializing list\n",
    "test_list_set = [ 1, 6, 3, 5, 3, 4 ]\n",
    "test_list_bisect = [ 1, 6, 3, 5, 3, 4 ]\n",
    " \n",
    "print(\"Checking if 4 exists in list ( using set() + in) : \")\n",
    " \n",
    "# Checking if 4 exists in list\n",
    "# using set() + in\n",
    "test_list_set = set(test_list_set)\n",
    "if 4 in test_list_set :\n",
    "    print (\"Element Exists\")\n",
    " \n",
    "print(\"Checking if 4 exists in list ( using sort() + bisect_left() ) : \")\n",
    " \n",
    "# Checking if 4 exists in list\n",
    "# using sort() + bisect_left()\n",
    "test_list_bisect.sort()\n",
    "if bisect_left(test_list_bisect, 4)!=bisect(test_list_bisect, 4):\n",
    "    print (\"Element Exists\")\n",
    "else:\n",
    "    print(\"Element doesnt exist\")"
   ]
  },
  {
   "cell_type": "markdown",
   "id": "2b3d540c",
   "metadata": {},
   "source": [
    "**5.Different ways to clear a list in Python**"
   ]
  },
  {
   "cell_type": "code",
   "execution_count": 60,
   "id": "ec871c27",
   "metadata": {},
   "outputs": [
    {
     "name": "stdout",
     "output_type": "stream",
     "text": [
      "GEEK before clear: [6, 0, 4, 1]\n",
      "GEEK after clear: []\n"
     ]
    }
   ],
   "source": [
    "##Method #1 Using clear() method\n",
    "\n",
    "# Python program to clear a list\n",
    "# using clear() method \n",
    "  \n",
    "# Creating list\n",
    "GEEK = [6, 0, 4, 1]\n",
    "print('GEEK before clear:', GEEK) \n",
    "  \n",
    "# Clearing list \n",
    "GEEK.clear() \n",
    "print('GEEK after clear:', GEEK) "
   ]
  },
  {
   "cell_type": "code",
   "execution_count": 62,
   "id": "d78bf4b9",
   "metadata": {},
   "outputs": [
    {
     "name": "stdout",
     "output_type": "stream",
     "text": [
      "List1 before deleting is : [1, 2, 3]\n",
      "List1 after clearing using clear() : []\n",
      "List2 before deleting is : [5, 6, 7]\n",
      "List2 after clearing using reinitialization : []\n"
     ]
    }
   ],
   "source": [
    "# Python3 code to demonstrate \n",
    "\n",
    "# clearing a list using\n",
    "# clear and Reinitializing \n",
    "  \n",
    "# Initializing lists\n",
    "list1 = [1, 2, 3]\n",
    "list2 = [5, 6, 7]\n",
    "  \n",
    "# Printing list1 before deleting \n",
    "print (\"List1 before deleting is : \" \n",
    "+  str(list1))\n",
    "  \n",
    "# deleting list using clear()\n",
    "list1.clear()\n",
    "  \n",
    "# Printing list1 after clearing\n",
    "print (\"List1 after clearing using clear() : \" \n",
    "+ str(list1))\n",
    "  \n",
    "# Printing list2 before deleting \n",
    "print (\"List2 before deleting is : \"\n",
    " +  str(list2))\n",
    "  \n",
    "# deleting list using reinitialization\n",
    "list2 = []\n",
    "  \n",
    "# Printing list2 after reinitialization\n",
    "print (\"List2 after clearing using reinitialization : \" \n",
    "+ str(list2))"
   ]
  },
  {
   "cell_type": "code",
   "execution_count": 63,
   "id": "55bb41a7",
   "metadata": {},
   "outputs": [
    {
     "name": "stdout",
     "output_type": "stream",
     "text": [
      "List1 before deleting is : [1, 2, 3]\n",
      "List1 after clearing using *= 0: []\n"
     ]
    }
   ],
   "source": [
    "##Method #3 \n",
    "#Using “*= 0” : This is a lesser known method, but this method removes all elements of the list and makes it empty.\n",
    "\n",
    "# Python3 code to demonstrate \n",
    "# clearing a list using\n",
    "# *= 0 method\n",
    "  \n",
    "# Initializing lists\n",
    "list1 = [1, 2, 3]\n",
    "  \n",
    "# Printing list1 before deleting \n",
    "print (\"List1 before deleting is : \" + str(list1))\n",
    "  \n",
    "# deleting list using *= 0\n",
    "list1 *= 0\n",
    "  \n",
    "# Printing list1 after *= 0\n",
    "print (\"List1 after clearing using *= 0: \" + str(list1))"
   ]
  },
  {
   "cell_type": "code",
   "execution_count": 67,
   "id": "b8aad68b",
   "metadata": {},
   "outputs": [
    {
     "name": "stdout",
     "output_type": "stream",
     "text": [
      "List1 before deleting is : [1, 2, 3]\n",
      "List1 after clearing using del : []\n",
      "List2 before deleting is : [5, 6, 7]\n",
      "List2 after clearing using del : []\n"
     ]
    }
   ],
   "source": [
    "#method-4\n",
    "\n",
    "#4 : Using del : del can be used to clear the list elements in a range,\n",
    "#if we don’t give a range, all the elements are deleted.\n",
    "\n",
    "\n",
    "# Python3 code to demonstrate \n",
    "# clearing a list using\n",
    "# del method\n",
    "  \n",
    "# Initializing lists\n",
    "list1 = [1, 2, 3]\n",
    "list2 = [5, 6, 7]\n",
    "  \n",
    "# Printing list1 before deleting \n",
    "print (\"List1 before deleting is : \" + str(list1))\n",
    "  \n",
    "# deleting list1 using del\n",
    "del list1[:]\n",
    "print (\"List1 after clearing using del : \" + str(list1))\n",
    "  \n",
    "  \n",
    "# Printing list2 before deleting \n",
    "print (\"List2 before deleting is : \" + str(list2))\n",
    "  \n",
    "# deleting list using del\n",
    "del list2[:]\n",
    "print (\"List2 after clearing using del : \" + str(list2))"
   ]
  },
  {
   "cell_type": "markdown",
   "id": "5595b6a0",
   "metadata": {},
   "source": [
    "**6.Python | Reversing a List**\n",
    "\n",
    "output:"
   ]
  },
  {
   "cell_type": "code",
   "execution_count": 68,
   "id": "d9225a2b",
   "metadata": {},
   "outputs": [
    {
     "name": "stdout",
     "output_type": "stream",
     "text": [
      "Using reverse()  [15, 14, 13, 12, 11, 10]\n",
      "Using reversed()  [10, 11, 12, 13, 14, 15]\n"
     ]
    }
   ],
   "source": [
    "##Method 1: Reversing a list using the reversed() and reverse() built-in function\n",
    "\n",
    "lst = [10, 11, 12, 13, 14, 15]\n",
    "lst.reverse()\n",
    "print(\"Using reverse() \", lst)\n",
    " \n",
    "print(\"Using reversed() \", list(reversed(lst)))"
   ]
  },
  {
   "cell_type": "code",
   "execution_count": 69,
   "id": "475e05c7",
   "metadata": {},
   "outputs": [
    {
     "name": "stdout",
     "output_type": "stream",
     "text": [
      "[15, 14, 13, 12, 11, 10]\n"
     ]
    }
   ],
   "source": [
    "##Method 2: Reversing a list using the insert() function\n",
    "\n",
    "# input list\n",
    "lst = [10, 11, 12, 13, 14, 15]\n",
    "# the above input can also be given as\n",
    "# lst=list(map(int,input().split()))\n",
    "l = []  # empty list\n",
    " \n",
    "# checking if elements present in the list or not\n",
    "for i in lst:\n",
    "    # reversing the list\n",
    "    l.insert(0, i)\n",
    "# printing result\n",
    "print(l)"
   ]
  },
  {
   "cell_type": "code",
   "execution_count": 70,
   "id": "ba58119b",
   "metadata": {},
   "outputs": [
    {
     "name": "stdout",
     "output_type": "stream",
     "text": [
      "[15, 14, 13, 12, 11, 10]\n"
     ]
    }
   ],
   "source": [
    "##Method 3: Reversing a list using the slicing technique\n",
    "\n",
    "# Reversing a list using slicing technique\n",
    "def Reverse(lst):\n",
    "    new_lst = lst[::-1]\n",
    "    return new_lst\n",
    " \n",
    "lst = [10, 11, 12, 13, 14, 15]\n",
    "print(Reverse(lst))"
   ]
  },
  {
   "cell_type": "code",
   "execution_count": 71,
   "id": "7174c71e",
   "metadata": {},
   "outputs": [
    {
     "name": "stdout",
     "output_type": "stream",
     "text": [
      "[15, 14, 13, 12, 11, 10]\n"
     ]
    }
   ],
   "source": [
    "##Method 4: Reversing a list using list comprehension\n",
    "\n",
    "# Function to reverse a list using list cpmprehension\n",
    "def reverse_list(original_list):\n",
    "   return [original_list[len(original_list) - i] for i in range(1, len(original_list)+1)]\n",
    " \n",
    "original_list = [10, 11, 12, 13, 14, 15]\n",
    "print(reverse_list(original_list))"
   ]
  },
  {
   "cell_type": "markdown",
   "id": "ba23c817",
   "metadata": {},
   "source": [
    "**7.Python program to find sum of elements in list**\n",
    "\n",
    "Example:  \n",
    "\n",
    "Input: [12, 15, 3, 10]\n",
    "Output: 40\n",
    "Input: [17, 5, 3, 5]\n",
    "Output: 30"
   ]
  },
  {
   "cell_type": "code",
   "execution_count": 1,
   "id": "8ce6953c",
   "metadata": {},
   "outputs": [
    {
     "name": "stdout",
     "output_type": "stream",
     "text": [
      "Sum of all elements in given list:  74\n"
     ]
    }
   ],
   "source": [
    "\n",
    "# Python program to find sum of elements in list\n",
    "total = 0\n",
    " \n",
    "# creating a list\n",
    "list1 = [11, 5, 17, 18, 23]\n",
    " \n",
    "# Iterate each element in list\n",
    "# and add them in variable total\n",
    "for ele in range(0, len(list1)):\n",
    "    total = total + list1[ele]\n",
    " \n",
    "# printing total value\n",
    "print(\"Sum of all elements in given list: \", total)"
   ]
  },
  {
   "cell_type": "code",
   "execution_count": 2,
   "id": "21ae2bf1",
   "metadata": {},
   "outputs": [
    {
     "name": "stdout",
     "output_type": "stream",
     "text": [
      "Sum of all elements in given list:  74\n"
     ]
    }
   ],
   "source": [
    "##Example #2 : Using while() loop \n",
    "\n",
    "\n",
    "\n",
    "# Python program to find sum of elements in list\n",
    "total = 0\n",
    "ele = 0\n",
    " \n",
    "# creating a list\n",
    "list1 = [11, 5, 17, 18, 23]\n",
    " \n",
    "# Iterate each element in list\n",
    "# and add them in variable total\n",
    "while(ele < len(list1)):\n",
    "    total = total + list1[ele]\n",
    "    ele += 1\n",
    "     \n",
    "# printing total value\n",
    "print(\"Sum of all elements in given list: \", total)"
   ]
  },
  {
   "cell_type": "code",
   "execution_count": 3,
   "id": "81b3031b",
   "metadata": {},
   "outputs": [
    {
     "name": "stdout",
     "output_type": "stream",
     "text": [
      "Sum of all elements in given list:  74\n"
     ]
    }
   ],
   "source": [
    "##Example #3: Recursive way  \n",
    "\n",
    "\n",
    "# Python program to find sum of all\n",
    "# elements in list using recursion\n",
    " \n",
    "# creating a list\n",
    "list1 = [11, 5, 17, 18, 23]\n",
    " \n",
    "# creating sum_list function\n",
    "def sumOfList(list, size):\n",
    "   if (size == 0):\n",
    "     return 0\n",
    "   else:\n",
    "     return list[size - 1] + sumOfList(list, size - 1)\n",
    "  \n",
    "# Driver code    \n",
    "total = sumOfList(list1, len(list1))\n",
    " \n",
    "print(\"Sum of all elements in given list: \", total)"
   ]
  },
  {
   "cell_type": "code",
   "execution_count": 4,
   "id": "54babfaf",
   "metadata": {},
   "outputs": [
    {
     "name": "stdout",
     "output_type": "stream",
     "text": [
      "Sum of all elements in given list:  74\n"
     ]
    }
   ],
   "source": [
    "##Example #4: Using sum() method  \n",
    "\n",
    "\n",
    "# Python program to find sum of elements in list\n",
    " \n",
    "# creating a list\n",
    "list1 = [11, 5, 17, 18, 23]\n",
    " \n",
    "# using sum() function\n",
    "total = sum(list1)\n",
    " \n",
    "# printing total value\n",
    "print(\"Sum of all elements in given list: \", total)"
   ]
  },
  {
   "cell_type": "code",
   "execution_count": 5,
   "id": "3206ef88",
   "metadata": {},
   "outputs": [
    {
     "name": "stdout",
     "output_type": "stream",
     "text": [
      "40\n"
     ]
    }
   ],
   "source": [
    "##Example 5: Using add() function of operator module.\n",
    "\n",
    "\n",
    "# Python 3 program to find the sum of all elements in the\n",
    "# list using add function of operator module\n",
    " \n",
    "from operator import*\n",
    "list1 = [12, 15, 3, 10]\n",
    "result = 0\n",
    "for i in list1:\n",
    "  # Adding elements in the list using\n",
    "  # add function of operator module\n",
    "    result = add(i, 0)+result\n",
    "# printing the result\n",
    "print(result)"
   ]
  },
  {
   "cell_type": "code",
   "execution_count": 6,
   "id": "0edacfe0",
   "metadata": {},
   "outputs": [
    {
     "name": "stdout",
     "output_type": "stream",
     "text": [
      "40\n"
     ]
    }
   ],
   "source": [
    "##Method 6: Using enumerate function\n",
    "\n",
    "list1 = [12, 15, 3, 10];s=0\n",
    "for i,a in enumerate(list1):\n",
    "  s+=a\n",
    "print(s)"
   ]
  },
  {
   "cell_type": "code",
   "execution_count": 7,
   "id": "99b39787",
   "metadata": {},
   "outputs": [
    {
     "name": "stdout",
     "output_type": "stream",
     "text": [
      "40\n"
     ]
    }
   ],
   "source": [
    "##Method 7: Using list comprehension \n",
    "\n",
    "list1 = [12, 15, 3, 10]\n",
    "s=[i for i in list1]\n",
    "print(sum(s))"
   ]
  },
  {
   "cell_type": "markdown",
   "id": "eef7d4fb",
   "metadata": {},
   "source": [
    "***8.Python | Multiply all numbers in the list**\n",
    "\n",
    "Examples: \n",
    " \n",
    "\n",
    "Input :  list1 = [1, 2, 3] \n",
    "Output : 6 \n",
    "Explanation: 1*2*3=6 \n",
    "\n",
    "Input : list1 = [3, 2, 4] \n",
    "Output : 24 "
   ]
  },
  {
   "cell_type": "code",
   "execution_count": 8,
   "id": "18355aa0",
   "metadata": {},
   "outputs": [
    {
     "name": "stdout",
     "output_type": "stream",
     "text": [
      "6\n",
      "24\n"
     ]
    }
   ],
   "source": [
    "##Method 1: Traversal\n",
    "\n",
    "# Python program to multiply all values in the\n",
    "# list using traversal\n",
    " \n",
    "def multiplyList(myList) :\n",
    "     \n",
    "    # Multiply elements one by one\n",
    "    result = 1\n",
    "    for x in myList:\n",
    "         result = result * x\n",
    "    return result\n",
    "     \n",
    "# Driver code\n",
    "list1 = [1, 2, 3]\n",
    "list2 = [3, 2, 4]\n",
    "print(multiplyList(list1))\n",
    "print(multiplyList(list2))"
   ]
  },
  {
   "cell_type": "code",
   "execution_count": 10,
   "id": "9f969bf7",
   "metadata": {},
   "outputs": [
    {
     "name": "stdout",
     "output_type": "stream",
     "text": [
      "6\n",
      "24\n"
     ]
    }
   ],
   "source": [
    "# Python3 program to multiply all values in the\n",
    "# list using lambda function and reduce()\n",
    " \n",
    "from functools import reduce\n",
    "list1 = [1, 2, 3]\n",
    "list2 = [3, 2, 4]\n",
    " \n",
    " \n",
    "result1 = reduce((lambda x, y: x * y), list1)\n",
    "result2 = reduce((lambda x, y: x * y), list2)\n",
    "print(result1)\n",
    "print(result2)"
   ]
  },
  {
   "cell_type": "code",
   "execution_count": 11,
   "id": "7f77428e",
   "metadata": {},
   "outputs": [
    {
     "name": "stdout",
     "output_type": "stream",
     "text": [
      "6\n",
      "24\n"
     ]
    }
   ],
   "source": [
    "# Python3 program to multiply all values in the\n",
    "# list using math.prod\n",
    " \n",
    "import math\n",
    "list1 = [1, 2, 3]\n",
    "list2 = [3, 2, 4]\n",
    " \n",
    " \n",
    "result1 = math.prod(list1)\n",
    "result2 = math.prod(list2)\n",
    "print(result1)\n",
    "print(result2)"
   ]
  },
  {
   "cell_type": "code",
   "execution_count": 12,
   "id": "c2f68dee",
   "metadata": {},
   "outputs": [
    {
     "name": "stdout",
     "output_type": "stream",
     "text": [
      "6\n"
     ]
    }
   ],
   "source": [
    "# Python 3 program to multiply all numbers in\n",
    "# the given list by importing operator module\n",
    " \n",
    "from operator import*\n",
    "list1 = [1, 2, 3]\n",
    "m = 1\n",
    "for i in list1:\n",
    "  # multiplying all elements in the given list\n",
    "  # using mul function of operator module\n",
    "    m = mul(i, m)\n",
    "# printing the result\n",
    "print(m)"
   ]
  },
  {
   "cell_type": "markdown",
   "id": "2cca32c5",
   "metadata": {},
   "source": [
    "**9.Python program to find smallest number in a list**\n",
    "\n",
    "Input : list1 = [10, 20, 4]\n",
    "Output : 4\n",
    "\n",
    "Input : list2 = [20, 10, 20, 1, 100]\n",
    "Output : 1"
   ]
  },
  {
   "cell_type": "code",
   "execution_count": 1,
   "id": "529dca77",
   "metadata": {},
   "outputs": [
    {
     "name": "stdout",
     "output_type": "stream",
     "text": [
      "Smallest element is: 4\n"
     ]
    }
   ],
   "source": [
    "# Python program to find smallest\n",
    "# number in a list\n",
    " \n",
    "# list of numbers\n",
    "list1 = [10, 20, 4, 45, 99]\n",
    " \n",
    "# sorting the list\n",
    "list1.sort()\n",
    " \n",
    "# printing the first element\n",
    "print(\"Smallest element is:\", *list1[:1])"
   ]
  },
  {
   "cell_type": "code",
   "execution_count": 2,
   "id": "d776928e",
   "metadata": {},
   "outputs": [
    {
     "name": "stdout",
     "output_type": "stream",
     "text": [
      "Smallest element is: 1\n"
     ]
    }
   ],
   "source": [
    "# Python program to find smallest\n",
    "# number in a list\n",
    " \n",
    "# list of numbers\n",
    "list1 = [10, 20, 1, 45, 99]\n",
    " \n",
    " \n",
    "# printing the maximum element\n",
    "print(\"Smallest element is:\", min(list1))"
   ]
  },
  {
   "cell_type": "code",
   "execution_count": 3,
   "id": "1e18fb3c",
   "metadata": {},
   "outputs": [
    {
     "name": "stdout",
     "output_type": "stream",
     "text": [
      "Enter number of elements in list: 4\n",
      "Enter elements: 5\n",
      "Enter elements: 6\n",
      "Enter elements: 7\n",
      "Enter elements: 8\n",
      "Smallest element is: 5\n"
     ]
    }
   ],
   "source": [
    "# Python program to find smallest\n",
    "# number in a list\n",
    " \n",
    "# creating empty list\n",
    "list1 = []\n",
    " \n",
    "# asking number of elements to put in list\n",
    "num = int(input(\"Enter number of elements in list: \"))\n",
    " \n",
    "# iterating till num to append elements in list\n",
    "for i in range(1, num + 1):\n",
    "    ele= int(input(\"Enter elements: \"))\n",
    "    list1.append(ele)\n",
    "     \n",
    "# print maximum element\n",
    "print(\"Smallest element is:\", min(list1))"
   ]
  },
  {
   "cell_type": "code",
   "execution_count": 5,
   "id": "2710ea3b",
   "metadata": {},
   "outputs": [
    {
     "name": "stdout",
     "output_type": "stream",
     "text": [
      "List:1,2,3,4,5,6\n",
      "The list is  [1, 2, 3, 4, 5, 6]\n",
      "The smallest element in the list is  1\n"
     ]
    }
   ],
   "source": [
    "# Python program to find smallest\n",
    "# number in a list\n",
    " \n",
    "l=[ int(l) for l in input(\"List:\").split(\",\")]\n",
    "print(\"The list is \",l)\n",
    " \n",
    "# Assign first element as a minimum.\n",
    "min1 = l[0]\n",
    " \n",
    "for i in range(len(l)):\n",
    " \n",
    "    # If the other element is min than first element\n",
    "    if l[i] < min1:\n",
    "        min1 = l[i] #It will change\n",
    " \n",
    "print(\"The smallest element in the list is \",min1)"
   ]
  },
  {
   "cell_type": "code",
   "execution_count": 6,
   "id": "cc01d7a8",
   "metadata": {},
   "outputs": [
    {
     "name": "stdout",
     "output_type": "stream",
     "text": [
      "1\n"
     ]
    }
   ],
   "source": [
    "# Python code to print smallest element in the list\n",
    " \n",
    "lst = [20, 10, 20, 1, 100]\n",
    "print(min(lst, key=lambda value: int(value)) )"
   ]
  },
  {
   "cell_type": "code",
   "execution_count": 7,
   "id": "09278ab9",
   "metadata": {},
   "outputs": [
    {
     "name": "stdout",
     "output_type": "stream",
     "text": [
      "1\n"
     ]
    }
   ],
   "source": [
    "lst = [20, 10, 20, 1, 100]\n",
    "a,i = min((a,i) for (i,a) in enumerate(lst))\n",
    "print(a)"
   ]
  },
  {
   "cell_type": "markdown",
   "id": "a9ab6340",
   "metadata": {},
   "source": [
    "**10.Python program to find largest number in a list**\n",
    "\n",
    "Input : list1 = [10, 20, 4]\n",
    "Output : 20\n",
    "\n",
    "Input : list2 = [20, 10, 20, 4, 100]\n",
    "Output : 100"
   ]
  },
  {
   "cell_type": "code",
   "execution_count": 8,
   "id": "85c06d8b",
   "metadata": {},
   "outputs": [
    {
     "name": "stdout",
     "output_type": "stream",
     "text": [
      "Largest element is: 99\n"
     ]
    }
   ],
   "source": [
    "# Python program to find largest\n",
    "# number in a list\n",
    " \n",
    "# list of numbers\n",
    "list1 = [10, 20, 4, 45, 99]\n",
    " \n",
    "# sorting the list\n",
    "list1.sort()\n",
    " \n",
    "# printing the last element\n",
    "print(\"Largest element is:\", list1[-1])"
   ]
  },
  {
   "cell_type": "code",
   "execution_count": 9,
   "id": "ea0cfdb9",
   "metadata": {},
   "outputs": [
    {
     "name": "stdout",
     "output_type": "stream",
     "text": [
      "Largest element is: 99\n"
     ]
    }
   ],
   "source": [
    "##method 2 : Using max() method \n",
    "\n",
    "\n",
    "# Python program to find largest\n",
    "# number in a list\n",
    " \n",
    "# list of numbers\n",
    "list1 = [10, 20, 4, 45, 99]\n",
    " \n",
    " \n",
    "# printing the maximum element\n",
    "print(\"Largest element is:\", max(list1))"
   ]
  },
  {
   "cell_type": "code",
   "execution_count": 10,
   "id": "9b9cfe93",
   "metadata": {},
   "outputs": [
    {
     "name": "stdout",
     "output_type": "stream",
     "text": [
      "Enter number of elements in list: 1\n",
      "Enter elements: 2\n",
      "Largest element is: 2\n"
     ]
    }
   ],
   "source": [
    "\n",
    "##Method 3 : Find max list element on inputs provided by user \n",
    "\n",
    "# Python program to find largest\n",
    "# number in a list\n",
    " \n",
    "# creating empty list\n",
    "list1 = []\n",
    " \n",
    "# asking number of elements to put in list\n",
    "num = int(input(\"Enter number of elements in list: \"))\n",
    " \n",
    "# iterating till num to append elements in list\n",
    "for i in range(1, num + 1):\n",
    "    ele = int(input(\"Enter elements: \"))\n",
    "    list1.append(ele)\n",
    "     \n",
    "# print maximum element\n",
    "print(\"Largest element is:\", max(list1))"
   ]
  },
  {
   "cell_type": "code",
   "execution_count": 11,
   "id": "d2b555ac",
   "metadata": {},
   "outputs": [
    {
     "name": "stdout",
     "output_type": "stream",
     "text": [
      "Largest element is: 99\n"
     ]
    }
   ],
   "source": [
    "\n",
    "##Method 4 : Without using built in functions in python: \n",
    "\n",
    "# Python program to find largest\n",
    "# number in a list\n",
    " \n",
    "def myMax(list1):\n",
    " \n",
    "    # Assume first number in list is largest\n",
    "    # initially and assign it to variable \"max\"\n",
    "    max = list1[0]\n",
    " # Now traverse through the list and compare\n",
    "    # each number with \"max\" value. Whichever is\n",
    "    # largest assign that value to \"max'.\n",
    "    for x in list1:\n",
    "        if x > max :\n",
    "             max = x\n",
    "     \n",
    "    # after complete traversing the list\n",
    "    # return the \"max\" value\n",
    "    return max\n",
    " \n",
    " \n",
    "# Driver code\n",
    "list1 = [10, 20, 4, 45, 99]\n",
    "print(\"Largest element is:\", myMax(list1))"
   ]
  },
  {
   "cell_type": "code",
   "execution_count": 12,
   "id": "0d668a70",
   "metadata": {},
   "outputs": [
    {
     "name": "stdout",
     "output_type": "stream",
     "text": [
      "100\n"
     ]
    }
   ],
   "source": [
    "##Method: Use the max() and def functions to find the largest element in a given list. \n",
    "    ##The max() function prints the largest element in the list.  \n",
    "\n",
    "\n",
    "# Python code\n",
    "# To find the largest number in a list\n",
    " \n",
    "def maxelement(lst):\n",
    "  # displaying largest element\n",
    "  # one line solution\n",
    "  print(max(lst))\n",
    " \n",
    "# driver code\n",
    "# input list\n",
    "lst = [20, 10, 20, 4, 100]\n",
    "# the above input can also be given as\n",
    "# lst = list(map(int, input().split()))  # -> taking input from the user\n",
    "maxelement(lst)\n",
    " "
   ]
  },
  {
   "cell_type": "code",
   "execution_count": 13,
   "id": "d53d692f",
   "metadata": {},
   "outputs": [
    {
     "name": "stdout",
     "output_type": "stream",
     "text": [
      "100\n"
     ]
    }
   ],
   "source": [
    "##Method: Using the lambda function\n",
    "\n",
    "\n",
    "# python code to print largest element in the list\n",
    " \n",
    "lst = [20, 10, 20, 4, 100]\n",
    "print(max(lst, key=lambda value: int(value)) )"
   ]
  },
  {
   "cell_type": "markdown",
   "id": "a63787dc",
   "metadata": {},
   "source": [
    "**11.Python program to find second largest number in a list**\n",
    "\n",
    "Examples: \n",
    "\n",
    "Input: list1 = [10, 20, 4]\n",
    "Output: 10\n",
    "\n",
    "Input: list2 = [70, 11, 20, 4, 100]\n",
    "Output: 70"
   ]
  },
  {
   "cell_type": "code",
   "execution_count": 14,
   "id": "4eb306a2",
   "metadata": {},
   "outputs": [
    {
     "name": "stdout",
     "output_type": "stream",
     "text": [
      "Second largest element is: 45\n"
     ]
    }
   ],
   "source": [
    "# Python program to find largest number\n",
    "# in a list\n",
    " \n",
    "# List of numbers\n",
    "list1 = [10, 20, 20, 4, 45, 45, 45, 99, 99]\n",
    " \n",
    "# Removing duplicates from the list\n",
    "list2 = list(set(list1))\n",
    " \n",
    "# Sorting the  list\n",
    "list2.sort()\n",
    " \n",
    "# Printing the second last element\n",
    "print(\"Second largest element is:\", list2[-2])"
   ]
  },
  {
   "cell_type": "code",
   "execution_count": 15,
   "id": "630f178c",
   "metadata": {},
   "outputs": [
    {
     "name": "stdout",
     "output_type": "stream",
     "text": [
      "45\n"
     ]
    }
   ],
   "source": [
    "# Python program to find second largest number\n",
    "# in a list\n",
    " \n",
    "# List of numbers\n",
    "list1 = [10, 20, 4, 45, 99]\n",
    " \n",
    "# new_list is a set of list1\n",
    "new_list = set(list1)\n",
    " \n",
    "# Removing the largest element from temp list\n",
    "new_list.remove(max(new_list))\n",
    " \n",
    "# Elements in original list are not changed\n",
    "# print(list1)\n",
    "print(max(new_list))"
   ]
  },
  {
   "cell_type": "code",
   "execution_count": 16,
   "id": "1d24f3e7",
   "metadata": {},
   "outputs": [
    {
     "name": "stdout",
     "output_type": "stream",
     "text": [
      "Second largest element is: 45\n"
     ]
    }
   ],
   "source": [
    "# Python program to find second largest\n",
    "# number in a list\n",
    " \n",
    "# creating list of integer type\n",
    "list1 = [10, 20, 4, 45, 99]\n",
    " \n",
    "'''\n",
    "# sort the list   \n",
    "list1.sort()\n",
    "     \n",
    "# print second maximum element\n",
    "print(\"Second largest element is:\", list1[-2])\n",
    " \n",
    "'''\n",
    " \n",
    "# print second maximum element using sorted() method\n",
    "print(\"Second largest element is:\", sorted(list1)[-2])"
   ]
  },
  {
   "cell_type": "code",
   "execution_count": 17,
   "id": "e186b4a3",
   "metadata": {},
   "outputs": [
    {
     "name": "stdout",
     "output_type": "stream",
     "text": [
      "45\n"
     ]
    }
   ],
   "source": [
    "def findLargest(arr):\n",
    "    secondLargest = 0\n",
    "    largest = min(arr)\n",
    " \n",
    "    for i in range(len(arr)):\n",
    "        if arr[i] > largest:\n",
    "            secondLargest = largest\n",
    "            largest = arr[i]\n",
    "        else:\n",
    "            secondLargest = max(secondLargest, arr[i])\n",
    " \n",
    "    # Returning second largest element\n",
    "    return secondLargest\n",
    " \n",
    " \n",
    "# Calling above method over this array set\n",
    "print(findLargest([10, 20, 4, 45, 99]))"
   ]
  },
  {
   "cell_type": "code",
   "execution_count": 18,
   "id": "9e798ee8",
   "metadata": {},
   "outputs": [
    {
     "name": "stdout",
     "output_type": "stream",
     "text": [
      "45\n"
     ]
    }
   ],
   "source": [
    "def secondmax(arr):\n",
    "  sublist = [x for x in arr if x < max(arr)]\n",
    "  return max(sublist)\n",
    " \n",
    "if __name__ == '__main__':\n",
    "  arr = [10, 20, 4, 45, 99]\n",
    "  print(secondmax(arr))"
   ]
  },
  {
   "cell_type": "code",
   "execution_count": 19,
   "id": "67f66156",
   "metadata": {},
   "outputs": [
    {
     "name": "stdout",
     "output_type": "stream",
     "text": [
      "45\n"
     ]
    }
   ],
   "source": [
    "lst = [10, 20, 4, 45, 99]\n",
    "maximum1 = max(lst)\n",
    "maximum2 = max(lst, key=lambda x: min(lst)-1 if (x == maximum1) else x)\n",
    "print(maximum2)"
   ]
  },
  {
   "cell_type": "code",
   "execution_count": 20,
   "id": "5cde40c6",
   "metadata": {},
   "outputs": [
    {
     "name": "stdout",
     "output_type": "stream",
     "text": [
      "45\n"
     ]
    }
   ],
   "source": [
    "lst = [10, 20, 4, 45, 99]\n",
    "m=max(lst)\n",
    "x=[a for i,a in enumerate(lst) if a<m]\n",
    "print(max(x))"
   ]
  },
  {
   "cell_type": "markdown",
   "id": "a3a5ce01",
   "metadata": {},
   "source": [
    "**12.Python program to find N largest elements from a list**\n",
    "\n",
    "Input : [4, 5, 1, 2, 9] \n",
    "        N = 2\n",
    "Output :  [9, 5]\n",
    "\n",
    "Input : [81, 52, 45, 10, 3, 2, 96] \n",
    "        N = 3\n",
    "Output : [81, 96, 52]"
   ]
  },
  {
   "cell_type": "code",
   "execution_count": 21,
   "id": "fbfb2deb",
   "metadata": {},
   "outputs": [
    {
     "name": "stdout",
     "output_type": "stream",
     "text": [
      "[85, 41]\n"
     ]
    }
   ],
   "source": [
    "# Python program to find N largest\n",
    "# element from given list of integers\n",
    " \n",
    "# Function returns N largest elements\n",
    "def Nmaxelements(list1, N):\n",
    "    final_list = []\n",
    " \n",
    "    for i in range(0, N):\n",
    "        max1 = 0\n",
    "         \n",
    "        for j in range(len(list1)):    \n",
    "            if list1[j] > max1:\n",
    "                max1 = list1[j];\n",
    "                 \n",
    "        list1.remove(max1);\n",
    "        final_list.append(max1)\n",
    "         \n",
    "    print(final_list)\n",
    " \n",
    "# Driver code\n",
    "list1 = [2, 6, 41, 85, 0, 3, 7, 6, 10]\n",
    "N = 2\n",
    " \n",
    "# Calling the function\n",
    "Nmaxelements(list1, N)"
   ]
  },
  {
   "cell_type": "code",
   "execution_count": 22,
   "id": "31476d26",
   "metadata": {},
   "outputs": [
    {
     "name": "stdout",
     "output_type": "stream",
     "text": [
      "[298, 900, 1000, 3579]\n"
     ]
    }
   ],
   "source": [
    "# Python program to find N largest\n",
    "# element from given list of integers\n",
    " \n",
    "l = [1000,298,3579,100,200,-45,900]\n",
    "n = 4\n",
    " \n",
    "l.sort()\n",
    "print(l[-n:])"
   ]
  },
  {
   "cell_type": "markdown",
   "id": "58b80688",
   "metadata": {},
   "source": [
    "**13.Python program to print even numbers in a list**\n",
    "\n",
    "Input: list1 = [2, 7, 5, 64, 14]\n",
    "Output: [2, 64, 14]\n",
    "\n",
    "Input: list2 = [12, 14, 95, 3]\n",
    "Output: [12, 14]"
   ]
  },
  {
   "cell_type": "code",
   "execution_count": 1,
   "id": "ad9f9c43",
   "metadata": {},
   "outputs": [
    {
     "name": "stdout",
     "output_type": "stream",
     "text": [
      "10 4 66 "
     ]
    }
   ],
   "source": [
    "##Method 1: Using for loop\n",
    "\n",
    "# Python program to print Even Numbers in a List\n",
    " \n",
    "# list of numbers\n",
    "list1 = [10, 21, 4, 45, 66, 93]\n",
    " \n",
    "# iterating each number in list\n",
    "for num in list1:\n",
    " \n",
    "    # checking condition\n",
    "    if num % 2 == 0:\n",
    "        print(num, end=\" \")"
   ]
  },
  {
   "cell_type": "code",
   "execution_count": 2,
   "id": "200273e0",
   "metadata": {},
   "outputs": [
    {
     "name": "stdout",
     "output_type": "stream",
     "text": [
      "10 24 4 66 "
     ]
    }
   ],
   "source": [
    "##Method 2: Using while loop \n",
    "\n",
    "# Python program to print Even Numbers in a List\n",
    " \n",
    "# list of numbers\n",
    "list1 = [10, 24, 4, 45, 66, 93]\n",
    "num = 0\n",
    " \n",
    "# using while loop\n",
    "while(num < len(list1)):\n",
    " \n",
    "    # checking condition\n",
    "    if list1[num] % 2 == 0:\n",
    "        print(list1[num], end=\" \")\n",
    " \n",
    "    # increment num\n",
    "    num += 1"
   ]
  },
  {
   "cell_type": "code",
   "execution_count": 3,
   "id": "60c6abdd",
   "metadata": {},
   "outputs": [
    {
     "name": "stdout",
     "output_type": "stream",
     "text": [
      "Even numbers in the list:  [10, 4, 66]\n"
     ]
    }
   ],
   "source": [
    "##Method 3: Using list comprehension \n",
    "\n",
    "# Python program to print even Numbers in a List\n",
    " \n",
    "# list of numbers\n",
    "list1 = [10, 21, 4, 45, 66, 93]\n",
    " \n",
    "# using list comprehension\n",
    "even_nos = [num for num in list1 if num % 2 == 0]\n",
    " \n",
    "print(\"Even numbers in the list: \", even_nos)"
   ]
  },
  {
   "cell_type": "code",
   "execution_count": 4,
   "id": "73931a77",
   "metadata": {},
   "outputs": [
    {
     "name": "stdout",
     "output_type": "stream",
     "text": [
      "Even numbers in the list:  [10, 4, 66]\n"
     ]
    }
   ],
   "source": [
    "##Method 4: Using lambda expressions \n",
    "\n",
    "# Python program to print Even Numbers in a List\n",
    " \n",
    "# list of numbers\n",
    "list1 = [10, 21, 4, 45, 66, 93, 11]\n",
    " \n",
    " \n",
    "# we can also print even no's using lambda exp.\n",
    "even_nos = list(filter(lambda x: (x % 2 == 0), list1))\n",
    " \n",
    "print(\"Even numbers in the list: \", even_nos)"
   ]
  },
  {
   "cell_type": "code",
   "execution_count": 1,
   "id": "44e522a9",
   "metadata": {},
   "outputs": [
    {
     "name": "stdout",
     "output_type": "stream",
     "text": [
      "2 64 14 "
     ]
    }
   ],
   "source": [
    "##Method: Using enumerate function \n",
    "\n",
    "list1 = [2, 7, 5, 64, 14]\n",
    "for a,i in enumerate(list1):\n",
    "  if i%2==0:\n",
    "    print(i,end=\" \")"
   ]
  },
  {
   "cell_type": "code",
   "execution_count": 2,
   "id": "b564ace8",
   "metadata": {},
   "outputs": [
    {
     "name": "stdout",
     "output_type": "stream",
     "text": [
      "Even numbers in the list: 10 4 66 "
     ]
    },
    {
     "ename": "IndexError",
     "evalue": "list index out of range",
     "output_type": "error",
     "traceback": [
      "\u001b[1;31m---------------------------------------------------------------------------\u001b[0m",
      "\u001b[1;31mIndexError\u001b[0m                                Traceback (most recent call last)",
      "Input \u001b[1;32mIn [2]\u001b[0m, in \u001b[0;36m<cell line: 13>\u001b[1;34m()\u001b[0m\n\u001b[0;32m     11\u001b[0m list1 \u001b[38;5;241m=\u001b[39m [\u001b[38;5;241m10\u001b[39m, \u001b[38;5;241m21\u001b[39m, \u001b[38;5;241m4\u001b[39m, \u001b[38;5;241m45\u001b[39m, \u001b[38;5;241m66\u001b[39m, \u001b[38;5;241m93\u001b[39m]\n\u001b[0;32m     12\u001b[0m \u001b[38;5;28mprint\u001b[39m(\u001b[38;5;124m\"\u001b[39m\u001b[38;5;124mEven numbers in the list:\u001b[39m\u001b[38;5;124m\"\u001b[39m, end\u001b[38;5;241m=\u001b[39m\u001b[38;5;124m\"\u001b[39m\u001b[38;5;124m \u001b[39m\u001b[38;5;124m\"\u001b[39m)\n\u001b[1;32m---> 13\u001b[0m \u001b[43mevennumbers\u001b[49m\u001b[43m(\u001b[49m\u001b[43mlist1\u001b[49m\u001b[43m)\u001b[49m\n",
      "Input \u001b[1;32mIn [2]\u001b[0m, in \u001b[0;36mevennumbers\u001b[1;34m(list, n)\u001b[0m\n\u001b[0;32m      8\u001b[0m     \u001b[38;5;28mprint\u001b[39m(\u001b[38;5;28mlist\u001b[39m[n], end\u001b[38;5;241m=\u001b[39m\u001b[38;5;124m\"\u001b[39m\u001b[38;5;124m \u001b[39m\u001b[38;5;124m\"\u001b[39m)\n\u001b[0;32m      9\u001b[0m \u001b[38;5;66;03m#calling function recursively\u001b[39;00m\n\u001b[1;32m---> 10\u001b[0m \u001b[43mevennumbers\u001b[49m\u001b[43m(\u001b[49m\u001b[38;5;28;43mlist\u001b[39;49m\u001b[43m,\u001b[49m\u001b[43m \u001b[49m\u001b[43mn\u001b[49m\u001b[38;5;241;43m+\u001b[39;49m\u001b[38;5;241;43m1\u001b[39;49m\u001b[43m)\u001b[49m\n",
      "Input \u001b[1;32mIn [2]\u001b[0m, in \u001b[0;36mevennumbers\u001b[1;34m(list, n)\u001b[0m\n\u001b[0;32m      8\u001b[0m     \u001b[38;5;28mprint\u001b[39m(\u001b[38;5;28mlist\u001b[39m[n], end\u001b[38;5;241m=\u001b[39m\u001b[38;5;124m\"\u001b[39m\u001b[38;5;124m \u001b[39m\u001b[38;5;124m\"\u001b[39m)\n\u001b[0;32m      9\u001b[0m \u001b[38;5;66;03m#calling function recursively\u001b[39;00m\n\u001b[1;32m---> 10\u001b[0m \u001b[43mevennumbers\u001b[49m\u001b[43m(\u001b[49m\u001b[38;5;28;43mlist\u001b[39;49m\u001b[43m,\u001b[49m\u001b[43m \u001b[49m\u001b[43mn\u001b[49m\u001b[38;5;241;43m+\u001b[39;49m\u001b[38;5;241;43m1\u001b[39;49m\u001b[43m)\u001b[49m\n",
      "    \u001b[1;31m[... skipping similar frames: evennumbers at line 10 (3 times)]\u001b[0m\n",
      "Input \u001b[1;32mIn [2]\u001b[0m, in \u001b[0;36mevennumbers\u001b[1;34m(list, n)\u001b[0m\n\u001b[0;32m      8\u001b[0m     \u001b[38;5;28mprint\u001b[39m(\u001b[38;5;28mlist\u001b[39m[n], end\u001b[38;5;241m=\u001b[39m\u001b[38;5;124m\"\u001b[39m\u001b[38;5;124m \u001b[39m\u001b[38;5;124m\"\u001b[39m)\n\u001b[0;32m      9\u001b[0m \u001b[38;5;66;03m#calling function recursively\u001b[39;00m\n\u001b[1;32m---> 10\u001b[0m \u001b[43mevennumbers\u001b[49m\u001b[43m(\u001b[49m\u001b[38;5;28;43mlist\u001b[39;49m\u001b[43m,\u001b[49m\u001b[43m \u001b[49m\u001b[43mn\u001b[49m\u001b[38;5;241;43m+\u001b[39;49m\u001b[38;5;241;43m1\u001b[39;49m\u001b[43m)\u001b[49m\n",
      "Input \u001b[1;32mIn [2]\u001b[0m, in \u001b[0;36mevennumbers\u001b[1;34m(list, n)\u001b[0m\n\u001b[0;32m      5\u001b[0m \u001b[38;5;28;01mif\u001b[39;00m n\u001b[38;5;241m==\u001b[39m\u001b[38;5;28mlen\u001b[39m(\u001b[38;5;28mlist\u001b[39m):\n\u001b[0;32m      6\u001b[0m     exit()\n\u001b[1;32m----> 7\u001b[0m \u001b[38;5;28;01mif\u001b[39;00m \u001b[38;5;28;43mlist\u001b[39;49m\u001b[43m[\u001b[49m\u001b[43mn\u001b[49m\u001b[43m]\u001b[49m\u001b[38;5;241m%\u001b[39m\u001b[38;5;241m2\u001b[39m\u001b[38;5;241m==\u001b[39m\u001b[38;5;241m0\u001b[39m:\n\u001b[0;32m      8\u001b[0m     \u001b[38;5;28mprint\u001b[39m(\u001b[38;5;28mlist\u001b[39m[n], end\u001b[38;5;241m=\u001b[39m\u001b[38;5;124m\"\u001b[39m\u001b[38;5;124m \u001b[39m\u001b[38;5;124m\"\u001b[39m)\n\u001b[0;32m      9\u001b[0m \u001b[38;5;66;03m#calling function recursively\u001b[39;00m\n",
      "\u001b[1;31mIndexError\u001b[0m: list index out of range"
     ]
    }
   ],
   "source": [
    "#Python program to print\n",
    "#even numbers in a list using recursion\n",
    "def evennumbers(list, n=0):\n",
    "    #base case\n",
    "    if n==len(list):\n",
    "        exit()\n",
    "    if list[n]%2==0:\n",
    "        print(list[n], end=\" \")\n",
    "    #calling function recursively\n",
    "    evennumbers(list, n+1)\n",
    "list1 = [10, 21, 4, 45, 66, 93]\n",
    "print(\"Even numbers in the list:\", end=\" \")\n",
    "evennumbers(list1)"
   ]
  },
  {
   "cell_type": "markdown",
   "id": "81f9460b",
   "metadata": {},
   "source": [
    "**14.Python program to print odd numbers in a List**\n",
    "\n",
    "Input: list1 = [2, 7, 5, 64, 14]\n",
    "Output: [7, 5]\n",
    "\n",
    "Input: list2 = [12, 14, 95, 3, 73]\n",
    "Output: [95, 3, 73]"
   ]
  },
  {
   "cell_type": "code",
   "execution_count": 1,
   "id": "89d53405",
   "metadata": {},
   "outputs": [
    {
     "name": "stdout",
     "output_type": "stream",
     "text": [
      "21 45 93 "
     ]
    }
   ],
   "source": [
    "# Python program to print odd Numbers in a List\n",
    " \n",
    "# list of numbers\n",
    "list1 = [10, 21, 4, 45, 66, 93]\n",
    " \n",
    "# iterating each number in list\n",
    "for num in list1:\n",
    "     \n",
    "    # checking condition\n",
    "    if num % 2 != 0:\n",
    "       print(num, end = \" \")"
   ]
  },
  {
   "cell_type": "code",
   "execution_count": 2,
   "id": "0b255a5b",
   "metadata": {},
   "outputs": [
    {
     "name": "stdout",
     "output_type": "stream",
     "text": [
      "21 45 93 "
     ]
    }
   ],
   "source": [
    "##Using while loop : \n",
    "\n",
    "# Python program to print odd Numbers in a List\n",
    " \n",
    "# list of numbers\n",
    "list1 = [10, 21, 4, 45, 66, 93]\n",
    "i = 0\n",
    " \n",
    "# using while loop       \n",
    "while(i < len(list1)):\n",
    "     \n",
    "    # checking condition\n",
    "    if list1[i] % 2 != 0:\n",
    "        print(list1[i], end = \" \")\n",
    "     \n",
    "    # increment i \n",
    "    i += 1"
   ]
  },
  {
   "cell_type": "code",
   "execution_count": 3,
   "id": "4ea04da9",
   "metadata": {},
   "outputs": [
    {
     "name": "stdout",
     "output_type": "stream",
     "text": [
      "[21, 45, 93]\n"
     ]
    }
   ],
   "source": [
    "##Using list comprehension :\n",
    "\n",
    "# Python program to print odd Numbers in a List\n",
    " \n",
    "# list of numbers\n",
    "list1 = [10, 21, 4, 45, 66, 93]\n",
    " \n",
    "only_odd = [num for num in list1 if num % 2 == 1]\n",
    " \n",
    "print(only_odd)"
   ]
  },
  {
   "cell_type": "code",
   "execution_count": 4,
   "id": "d39ff164",
   "metadata": {},
   "outputs": [
    {
     "name": "stdout",
     "output_type": "stream",
     "text": [
      "Odd numbers in the list:  [21, 45, 93, 11]\n"
     ]
    }
   ],
   "source": [
    "##Using lambda expressions :\n",
    "\n",
    "# Python program to print odd numbers in a List\n",
    " \n",
    "# list of numbers\n",
    "list1 = [10, 21, 4, 45, 66, 93, 11]\n",
    " \n",
    " \n",
    "# we can also print odd no's using lambda exp.\n",
    "odd_nos = list(filter(lambda x: (x % 2 != 0), list1))\n",
    " \n",
    "print(\"Odd numbers in the list: \", odd_nos)"
   ]
  },
  {
   "cell_type": "code",
   "execution_count": 5,
   "id": "f4c9ec94",
   "metadata": {},
   "outputs": [
    {
     "name": "stdout",
     "output_type": "stream",
     "text": [
      "21 45 93 11 "
     ]
    }
   ],
   "source": [
    "##Method: Using pass \n",
    "\n",
    "#Python program to print odd numbers in a List\n",
    " \n",
    "lst=[10,21,4,45,66,93,11]\n",
    "for i in lst:\n",
    "  if i%2==0:\n",
    "    pass\n",
    "  else:\n",
    "    print(i,end=\" \")"
   ]
  },
  {
   "cell_type": "code",
   "execution_count": 6,
   "id": "2be810a6",
   "metadata": {},
   "outputs": [
    {
     "name": "stdout",
     "output_type": "stream",
     "text": [
      "odd numbers in the list: 21 45 93 11 "
     ]
    },
    {
     "ename": "IndexError",
     "evalue": "list index out of range",
     "output_type": "error",
     "traceback": [
      "\u001b[1;31m---------------------------------------------------------------------------\u001b[0m",
      "\u001b[1;31mIndexError\u001b[0m                                Traceback (most recent call last)",
      "Input \u001b[1;32mIn [6]\u001b[0m, in \u001b[0;36m<cell line: 15>\u001b[1;34m()\u001b[0m\n\u001b[0;32m     13\u001b[0m list1 \u001b[38;5;241m=\u001b[39m [\u001b[38;5;241m10\u001b[39m, \u001b[38;5;241m21\u001b[39m, \u001b[38;5;241m4\u001b[39m, \u001b[38;5;241m45\u001b[39m, \u001b[38;5;241m66\u001b[39m, \u001b[38;5;241m93\u001b[39m,\u001b[38;5;241m11\u001b[39m]\n\u001b[0;32m     14\u001b[0m \u001b[38;5;28mprint\u001b[39m(\u001b[38;5;124m\"\u001b[39m\u001b[38;5;124modd numbers in the list:\u001b[39m\u001b[38;5;124m\"\u001b[39m, end\u001b[38;5;241m=\u001b[39m\u001b[38;5;124m\"\u001b[39m\u001b[38;5;124m \u001b[39m\u001b[38;5;124m\"\u001b[39m)\n\u001b[1;32m---> 15\u001b[0m \u001b[43moddnumbers\u001b[49m\u001b[43m(\u001b[49m\u001b[43mlist1\u001b[49m\u001b[43m)\u001b[49m\n",
      "Input \u001b[1;32mIn [6]\u001b[0m, in \u001b[0;36moddnumbers\u001b[1;34m(list, n)\u001b[0m\n\u001b[0;32m     10\u001b[0m     \u001b[38;5;28mprint\u001b[39m(\u001b[38;5;28mlist\u001b[39m[n], end\u001b[38;5;241m=\u001b[39m\u001b[38;5;124m\"\u001b[39m\u001b[38;5;124m \u001b[39m\u001b[38;5;124m\"\u001b[39m)\n\u001b[0;32m     11\u001b[0m \u001b[38;5;66;03m#calling function recursively\u001b[39;00m\n\u001b[1;32m---> 12\u001b[0m \u001b[43moddnumbers\u001b[49m\u001b[43m(\u001b[49m\u001b[38;5;28;43mlist\u001b[39;49m\u001b[43m,\u001b[49m\u001b[43m \u001b[49m\u001b[43mn\u001b[49m\u001b[38;5;241;43m+\u001b[39;49m\u001b[38;5;241;43m1\u001b[39;49m\u001b[43m)\u001b[49m\n",
      "Input \u001b[1;32mIn [6]\u001b[0m, in \u001b[0;36moddnumbers\u001b[1;34m(list, n)\u001b[0m\n\u001b[0;32m     10\u001b[0m     \u001b[38;5;28mprint\u001b[39m(\u001b[38;5;28mlist\u001b[39m[n], end\u001b[38;5;241m=\u001b[39m\u001b[38;5;124m\"\u001b[39m\u001b[38;5;124m \u001b[39m\u001b[38;5;124m\"\u001b[39m)\n\u001b[0;32m     11\u001b[0m \u001b[38;5;66;03m#calling function recursively\u001b[39;00m\n\u001b[1;32m---> 12\u001b[0m \u001b[43moddnumbers\u001b[49m\u001b[43m(\u001b[49m\u001b[38;5;28;43mlist\u001b[39;49m\u001b[43m,\u001b[49m\u001b[43m \u001b[49m\u001b[43mn\u001b[49m\u001b[38;5;241;43m+\u001b[39;49m\u001b[38;5;241;43m1\u001b[39;49m\u001b[43m)\u001b[49m\n",
      "    \u001b[1;31m[... skipping similar frames: oddnumbers at line 12 (4 times)]\u001b[0m\n",
      "Input \u001b[1;32mIn [6]\u001b[0m, in \u001b[0;36moddnumbers\u001b[1;34m(list, n)\u001b[0m\n\u001b[0;32m     10\u001b[0m     \u001b[38;5;28mprint\u001b[39m(\u001b[38;5;28mlist\u001b[39m[n], end\u001b[38;5;241m=\u001b[39m\u001b[38;5;124m\"\u001b[39m\u001b[38;5;124m \u001b[39m\u001b[38;5;124m\"\u001b[39m)\n\u001b[0;32m     11\u001b[0m \u001b[38;5;66;03m#calling function recursively\u001b[39;00m\n\u001b[1;32m---> 12\u001b[0m \u001b[43moddnumbers\u001b[49m\u001b[43m(\u001b[49m\u001b[38;5;28;43mlist\u001b[39;49m\u001b[43m,\u001b[49m\u001b[43m \u001b[49m\u001b[43mn\u001b[49m\u001b[38;5;241;43m+\u001b[39;49m\u001b[38;5;241;43m1\u001b[39;49m\u001b[43m)\u001b[49m\n",
      "Input \u001b[1;32mIn [6]\u001b[0m, in \u001b[0;36moddnumbers\u001b[1;34m(list, n)\u001b[0m\n\u001b[0;32m      7\u001b[0m \u001b[38;5;28;01mif\u001b[39;00m n\u001b[38;5;241m==\u001b[39m\u001b[38;5;28mlen\u001b[39m(\u001b[38;5;28mlist\u001b[39m):\n\u001b[0;32m      8\u001b[0m     exit()\n\u001b[1;32m----> 9\u001b[0m \u001b[38;5;28;01mif\u001b[39;00m \u001b[38;5;28;43mlist\u001b[39;49m\u001b[43m[\u001b[49m\u001b[43mn\u001b[49m\u001b[43m]\u001b[49m\u001b[38;5;241m%\u001b[39m\u001b[38;5;241m2\u001b[39m\u001b[38;5;241m!=\u001b[39m\u001b[38;5;241m0\u001b[39m:\n\u001b[0;32m     10\u001b[0m     \u001b[38;5;28mprint\u001b[39m(\u001b[38;5;28mlist\u001b[39m[n], end\u001b[38;5;241m=\u001b[39m\u001b[38;5;124m\"\u001b[39m\u001b[38;5;124m \u001b[39m\u001b[38;5;124m\"\u001b[39m)\n\u001b[0;32m     11\u001b[0m \u001b[38;5;66;03m#calling function recursively\u001b[39;00m\n",
      "\u001b[1;31mIndexError\u001b[0m: list index out of range"
     ]
    }
   ],
   "source": [
    "##Method: Using recursion \n",
    "\n",
    "#Python program to print\n",
    "#odd numbers in a list using recursion\n",
    "def oddnumbers(list, n=0):\n",
    "    #base case\n",
    "    if n==len(list):\n",
    "        exit()\n",
    "    if list[n]%2!=0:\n",
    "        print(list[n], end=\" \")\n",
    "    #calling function recursively\n",
    "    oddnumbers(list, n+1)\n",
    "list1 = [10, 21, 4, 45, 66, 93,11]\n",
    "print(\"odd numbers in the list:\", end=\" \")\n",
    "oddnumbers(list1)"
   ]
  },
  {
   "cell_type": "code",
   "execution_count": 1,
   "id": "61500354",
   "metadata": {},
   "outputs": [
    {
     "name": "stdout",
     "output_type": "stream",
     "text": [
      "7 5 "
     ]
    }
   ],
   "source": [
    "##Method: Using enumerate function \n",
    "\n",
    "list1 = [2, 7, 5, 64, 14]\n",
    "for a,i in enumerate(list1):\n",
    "  if i%2!=0:\n",
    "    print(i,end=\" \")"
   ]
  },
  {
   "cell_type": "markdown",
   "id": "a1591866",
   "metadata": {},
   "source": [
    "**15.Python program to print all even numbers in a range**\n",
    "\n",
    "Input: start = 4, end = 15\n",
    "Output: 4, 6, 8, 10, 12, 14\n",
    "\n",
    "Input: start = 8, end = 11\n",
    "Output: 8, 10"
   ]
  },
  {
   "cell_type": "code",
   "execution_count": 2,
   "id": "1f22c0ba",
   "metadata": {},
   "outputs": [
    {
     "name": "stdout",
     "output_type": "stream",
     "text": [
      "4\n",
      "6\n",
      "8\n",
      "10\n",
      "12\n",
      "14\n"
     ]
    }
   ],
   "source": [
    "for num in range(4,15,2):\n",
    "  #here inside range function first no dentoes starting, second denotes end and third denotes the interval\n",
    "    print(num)"
   ]
  },
  {
   "cell_type": "code",
   "execution_count": 3,
   "id": "292aeaee",
   "metadata": {},
   "outputs": [
    {
     "name": "stdout",
     "output_type": "stream",
     "text": [
      "Enter the start of range: 5\n",
      "Enter the end of range: 6\n",
      "6 "
     ]
    }
   ],
   "source": [
    "# Python program to print Even Numbers in given range\n",
    " \n",
    "start = int(input(\"Enter the start of range: \"))\n",
    "end = int(input(\"Enter the end of range: \"))\n",
    " \n",
    "# iterating each number in list\n",
    "for num in range(start, end + 1):\n",
    "     \n",
    "    # checking condition\n",
    "    if num % 2 == 0:\n",
    "        print(num, end = \" \")"
   ]
  },
  {
   "cell_type": "code",
   "execution_count": 4,
   "id": "b9426196",
   "metadata": {},
   "outputs": [
    {
     "name": "stdout",
     "output_type": "stream",
     "text": [
      "Enter the start of range: 8\n",
      "Enter the end of range: 9\n",
      "8\n"
     ]
    },
    {
     "data": {
      "text/plain": [
       "[None]"
      ]
     },
     "execution_count": 4,
     "metadata": {},
     "output_type": "execute_result"
    }
   ],
   "source": [
    "# Python program to print Even Numbers in given range\n",
    " \n",
    "start = int(input(\"Enter the start of range: \"))\n",
    "end = int(input(\"Enter the end of range: \"))\n",
    " \n",
    "#creating even starting range\n",
    "start = start+1 if start&1 else start\n",
    "  \n",
    " \n",
    "#create a list and printing element\n",
    "#contains Even numbers in range\n",
    "[ print( x ) for x in range(start, end + 1, 2)]"
   ]
  },
  {
   "cell_type": "code",
   "execution_count": 5,
   "id": "d9a72dbb",
   "metadata": {},
   "outputs": [
    {
     "name": "stdout",
     "output_type": "stream",
     "text": [
      "4 6 8 10 12 14 "
     ]
    }
   ],
   "source": [
    "def even(num1,num2):\n",
    "    if num1>num2:\n",
    "        return\n",
    "    print(num1,end=\" \")\n",
    "    return even(num1+2,num2)\n",
    "num1=4;num2=15\n",
    "even(num1,num2)"
   ]
  },
  {
   "cell_type": "code",
   "execution_count": 6,
   "id": "cf634c58",
   "metadata": {},
   "outputs": [
    {
     "name": "stdout",
     "output_type": "stream",
     "text": [
      "[4, 6, 8, 10, 12, 14]\n"
     ]
    }
   ],
   "source": [
    "# Python code To print all even numbers\n",
    "# in a given range using the lambda function\n",
    "a=4;b=15\n",
    "li=[]\n",
    "for i in range(a,b+1):\n",
    "    li.append(i)\n",
    "# printing odd numbers using the lambda function\n",
    "even_num = list(filter(lambda x: (x%2==0),li)) \n",
    "print(even_num)"
   ]
  },
  {
   "cell_type": "code",
   "execution_count": 7,
   "id": "4583447a",
   "metadata": {},
   "outputs": [
    {
     "name": "stdout",
     "output_type": "stream",
     "text": [
      "4 6 8 10 12 14\n"
     ]
    }
   ],
   "source": [
    "x=[i for i in range(4,15+1) if i%2==0]\n",
    "print(*x)"
   ]
  },
  {
   "cell_type": "code",
   "execution_count": 8,
   "id": "da2b6254",
   "metadata": {},
   "outputs": [
    {
     "name": "stdout",
     "output_type": "stream",
     "text": [
      "[4, 6, 8, 10, 12, 14]\n"
     ]
    }
   ],
   "source": [
    "a=4;b=15;l=[]\n",
    "for i in range(a,b+1):\n",
    "  l.append(i)\n",
    "print([a for j,a in enumerate(l) if a%2==0])"
   ]
  },
  {
   "cell_type": "markdown",
   "id": "640363a9",
   "metadata": {},
   "source": [
    "**16.Python program to print all odd numbers in a range**\n",
    "\n",
    "\n",
    "Input: start = 4, end = 15\n",
    "Output: 5, 7, 9, 11, 13, 15\n",
    "\n",
    "Input: start = 3, end = 11\n",
    "Output: 3, 5, 7, 9, 11"
   ]
  },
  {
   "cell_type": "code",
   "execution_count": 9,
   "id": "1de09bf6",
   "metadata": {},
   "outputs": [
    {
     "name": "stdout",
     "output_type": "stream",
     "text": [
      "5 7 9 11 13 15 17 19 "
     ]
    }
   ],
   "source": [
    "# Python program to print odd Numbers in given range\n",
    " \n",
    "start, end = 4, 19\n",
    " \n",
    "# iterating each number in list\n",
    "for num in range(start, end + 1):\n",
    "     \n",
    "    # checking condition\n",
    "    if num % 2 != 0:\n",
    "        print(num, end = \" \")"
   ]
  },
  {
   "cell_type": "code",
   "execution_count": 10,
   "id": "aa676747",
   "metadata": {},
   "outputs": [
    {
     "name": "stdout",
     "output_type": "stream",
     "text": [
      "Enter the start of range:5\n",
      "Enter the end of range:6\n",
      "5\n"
     ]
    }
   ],
   "source": [
    "# Python program to print Even Numbers in given range\n",
    " \n",
    "start = int(input(\"Enter the start of range:\"))\n",
    "end = int(input(\"Enter the end of range:\"))\n",
    " \n",
    "# iterating each number in list\n",
    "for num in range(start, end + 1):\n",
    " \n",
    "    # checking condition\n",
    "    if num % 2 != 0:\n",
    "        print(num)"
   ]
  },
  {
   "cell_type": "code",
   "execution_count": 11,
   "id": "afd510c9",
   "metadata": {},
   "outputs": [
    {
     "name": "stdout",
     "output_type": "stream",
     "text": [
      "5 7 9 11 13 15 17 19 "
     ]
    }
   ],
   "source": [
    "# Uncomment the below two lines for taking the User Inputs\n",
    "#start = int(input(\"Enter the start of range: \"))\n",
    "#end = int(input(\"Enter the end of range: \"))\n",
    " \n",
    "# Range declaration\n",
    "start = 5\n",
    "end = 20\n",
    " \n",
    "if start % 2 != 0:\n",
    " \n",
    "    for num in range(start, end + 1, 2):\n",
    "        print(num, end=\" \")\n",
    "else:\n",
    " \n",
    "    for num in range(start+1, end + 1, 2):\n",
    "        print(num, end=\" \")"
   ]
  },
  {
   "cell_type": "code",
   "execution_count": 14,
   "id": "848de8b3",
   "metadata": {},
   "outputs": [
    {
     "name": "stdout",
     "output_type": "stream",
     "text": [
      "Enter the start of range: 2\n",
      "Enter the end of range: 8\n",
      "2 4 6 8 "
     ]
    }
   ],
   "source": [
    "# Python program to print Even Numbers in given range\n",
    " \n",
    "start = int(input(\"Enter the start of range: \"))\n",
    "end = int(input(\"Enter the end of range: \"))\n",
    " \n",
    "#create a list that contains only Even numbers in given range\n",
    "even_list = range(start, end + 1)[start%2::2]\n",
    " \n",
    "for num in even_list:\n",
    "    print(num, end = \" \")"
   ]
  },
  {
   "cell_type": "code",
   "execution_count": 15,
   "id": "9d743dba",
   "metadata": {},
   "outputs": [
    {
     "name": "stdout",
     "output_type": "stream",
     "text": [
      "[3, 5, 7, 9, 11]\n"
     ]
    }
   ],
   "source": [
    "# Python code To print all odd numbers\n",
    "# in a given range using the lambda function\n",
    "a=3;b=11\n",
    "li=[]\n",
    "for i in range(a,b+1):\n",
    "    li.append(i)\n",
    "# printing odd numbers using the lambda function\n",
    "odd_num = list(filter(lambda x: (x%2!=0),li)) \n",
    "print(odd_num)"
   ]
  },
  {
   "cell_type": "code",
   "execution_count": 16,
   "id": "14096792",
   "metadata": {},
   "outputs": [
    {
     "name": "stdout",
     "output_type": "stream",
     "text": [
      "5 7 9 11 13 15 "
     ]
    }
   ],
   "source": [
    "def odd(num1,num2):\n",
    "    if num1>num2:\n",
    "        return\n",
    "    print(num1+1,end=\" \")\n",
    "    return odd(num1+2,num2)\n",
    "num1=4;num2=15\n",
    "odd(num1,num2)"
   ]
  },
  {
   "cell_type": "code",
   "execution_count": 17,
   "id": "2c7beb28",
   "metadata": {},
   "outputs": [
    {
     "name": "stdout",
     "output_type": "stream",
     "text": [
      "5 7 9 11 13 15\n"
     ]
    }
   ],
   "source": [
    "x = [i for i in range(4,15+1) if i%2!=0]\n",
    "print(*x)"
   ]
  },
  {
   "cell_type": "code",
   "execution_count": 18,
   "id": "70ff501a",
   "metadata": {},
   "outputs": [
    {
     "name": "stdout",
     "output_type": "stream",
     "text": [
      "[5, 7, 9, 11, 13, 15]\n"
     ]
    }
   ],
   "source": [
    "a=4;b=15;l=[]\n",
    "for i in range(a,b+1):\n",
    "  l.append(i)\n",
    "print([a for j,a in enumerate(l) if a%2!=0])"
   ]
  },
  {
   "cell_type": "markdown",
   "id": "06ccab79",
   "metadata": {},
   "source": [
    "**17.Python program to print positive numbers in a list**\n",
    "\n",
    "Input: list1 = [12, -7, 5, 64, -14]\n",
    "Output: 12, 5, 64\n",
    "\n",
    "Input: list2 = [12, 14, -95, 3]\n",
    "Output: [12, 14, 3]"
   ]
  },
  {
   "cell_type": "code",
   "execution_count": 19,
   "id": "96f38b25",
   "metadata": {},
   "outputs": [
    {
     "name": "stdout",
     "output_type": "stream",
     "text": [
      "11 0 45 66 "
     ]
    }
   ],
   "source": [
    "# Python program to print positive Numbers in a List\n",
    " \n",
    "# list of numbers\n",
    "list1 = [11, -21, 0, 45, 66, -93]\n",
    " \n",
    "# iterating each number in list\n",
    "for num in list1:\n",
    "     \n",
    "    # checking condition\n",
    "    if num >= 0:\n",
    "       print(num, end = \" \")"
   ]
  },
  {
   "cell_type": "code",
   "execution_count": 20,
   "id": "04ba223c",
   "metadata": {},
   "outputs": [
    {
     "name": "stdout",
     "output_type": "stream",
     "text": [
      "21 93 "
     ]
    }
   ],
   "source": [
    "# Python program to print positive Numbers in a List\n",
    " \n",
    "# list of numbers\n",
    "list1 = [-10, 21, -4, -45, -66, 93]\n",
    "num = 0\n",
    " \n",
    "# using while loop    \n",
    "while(num < len(list1)):\n",
    "     \n",
    "    # checking condition\n",
    "    if list1[num] >= 0:\n",
    "        print(list1[num], end = \" \")\n",
    "     \n",
    "    # increment num\n",
    "    num += 1\n",
    "    "
   ]
  },
  {
   "cell_type": "code",
   "execution_count": 21,
   "id": "c2c13a19",
   "metadata": {},
   "outputs": [
    {
     "name": "stdout",
     "output_type": "stream",
     "text": [
      "Positive numbers in the list:  45 93\n"
     ]
    }
   ],
   "source": [
    "# Python program to print Positive Numbers in a List\n",
    " \n",
    "# list of numbers\n",
    "list1 = [-10, -21, -4, 45, -66, 93]\n",
    " \n",
    "# using list comprehension\n",
    "pos_nos = [num for num in list1 if num >= 0]\n",
    " \n",
    "print(\"Positive numbers in the list: \", *pos_nos)"
   ]
  },
  {
   "cell_type": "code",
   "execution_count": 22,
   "id": "c38b6ea5",
   "metadata": {},
   "outputs": [
    {
     "name": "stdout",
     "output_type": "stream",
     "text": [
      "Positive numbers in the list:  21 4 93\n"
     ]
    }
   ],
   "source": [
    "# Python program to print positive Numbers in a List\n",
    " \n",
    "# list of numbers\n",
    "list1 = [-10, 21, 4, -45, -66, 93, -11]\n",
    " \n",
    " \n",
    "# we can also print positive no's using lambda exp.\n",
    "pos_nos = list(filter(lambda x: (x >= 0), list1))\n",
    " \n",
    "print(\"Positive numbers in the list: \", *pos_nos)"
   ]
  },
  {
   "cell_type": "code",
   "execution_count": 23,
   "id": "7830ae83",
   "metadata": {},
   "outputs": [
    {
     "name": "stdout",
     "output_type": "stream",
     "text": [
      "[12, 5, 64]\n"
     ]
    }
   ],
   "source": [
    "l=[12, -7, 5, 64, -14]\n",
    "print([a for j,a in enumerate(l) if a>=0])"
   ]
  },
  {
   "cell_type": "code",
   "execution_count": 24,
   "id": "bc33a646",
   "metadata": {},
   "outputs": [
    {
     "name": "stdout",
     "output_type": "stream",
     "text": [
      "11 45 66\n"
     ]
    }
   ],
   "source": [
    "# Python program to print positive numbers in a List\n",
    " \n",
    "# list of numbers\n",
    "list1 = [11, -21, 0, 45, 66, -93]\n",
    "res=[]\n",
    "list2=list(map(str,list1))\n",
    "for i in range(0,len(list2)):\n",
    "    if( not list2[i].startswith(\"-\") and list2[i] !=\"0\"):\n",
    "        res.append(str(list1[i]))\n",
    "res=\" \".join(res)\n",
    "print(res)"
   ]
  },
  {
   "cell_type": "markdown",
   "id": "01b61a3d",
   "metadata": {},
   "source": [
    "**18.Python program to print negative numbers in a list**\n",
    "\n",
    "Input: list1 = [12, -7, 5, 64, -14]\n",
    "Output: -7, -14\n",
    "\n",
    "Input: list2 = [12, 14, -95, 3]\n",
    "Output: -95"
   ]
  },
  {
   "cell_type": "code",
   "execution_count": 25,
   "id": "da0ed30f",
   "metadata": {},
   "outputs": [
    {
     "name": "stdout",
     "output_type": "stream",
     "text": [
      "-21 -93 "
     ]
    }
   ],
   "source": [
    "# Python program to print negative Numbers in a List\n",
    " \n",
    "# list of numbers\n",
    "list1 = [11, -21, 0, 45, 66, -93]\n",
    " \n",
    "# iterating each number in list\n",
    "for num in list1:\n",
    "     \n",
    "    # checking condition\n",
    "    if num < 0:\n",
    "       print(num, end = \" \")"
   ]
  },
  {
   "cell_type": "code",
   "execution_count": 26,
   "id": "6be9c2b6",
   "metadata": {},
   "outputs": [
    {
     "name": "stdout",
     "output_type": "stream",
     "text": [
      "-10 -4 -45 -66 "
     ]
    }
   ],
   "source": [
    "# Python program to print negative Numbers in a List\n",
    " \n",
    "# list of numbers\n",
    "list1 = [-10, 21, -4, -45, -66, 93]\n",
    "num = 0\n",
    " \n",
    "# using while loop    \n",
    "while(num < len(list1)):\n",
    "     \n",
    "    # checking condition\n",
    "    if list1[num] < 0:\n",
    "        print(list1[num], end = \" \")\n",
    "     \n",
    "    # increment num\n",
    "    num += 1\n",
    "    "
   ]
  },
  {
   "cell_type": "code",
   "execution_count": 27,
   "id": "5fecb034",
   "metadata": {},
   "outputs": [
    {
     "name": "stdout",
     "output_type": "stream",
     "text": [
      "Negative numbers in the list:  -10 -21 -4 -66\n"
     ]
    }
   ],
   "source": [
    "# Python program to print negative Numbers in a List\n",
    " \n",
    "# list of numbers\n",
    "list1 = [-10, -21, -4, 45, -66, 93]\n",
    " \n",
    "# using list comprehension\n",
    "neg_nos = [num for num in list1 if num < 0]\n",
    " \n",
    "print(\"Negative numbers in the list: \", *neg_nos)"
   ]
  },
  {
   "cell_type": "code",
   "execution_count": 28,
   "id": "065373fc",
   "metadata": {},
   "outputs": [
    {
     "name": "stdout",
     "output_type": "stream",
     "text": [
      "Negative numbers in the list:  -10 -45 -66 -11\n"
     ]
    }
   ],
   "source": [
    "# Python program to print negative Numbers in a List\n",
    " \n",
    "# list of numbers\n",
    "list1 = [-10, 21, 4, -45, -66, 93, -11]\n",
    " \n",
    " \n",
    "# we can also print negative no's using lambda exp.\n",
    "neg_nos = list(filter(lambda x: (x < 0), list1))\n",
    " \n",
    "print(\"Negative numbers in the list: \", *neg_nos)"
   ]
  },
  {
   "cell_type": "code",
   "execution_count": 29,
   "id": "33e5cb1a",
   "metadata": {},
   "outputs": [
    {
     "name": "stdout",
     "output_type": "stream",
     "text": [
      "[-7, -14]\n"
     ]
    }
   ],
   "source": [
    "l=[12, -7, 5, 64, -14]\n",
    "print([a for j,a in enumerate(l) if a<0])"
   ]
  },
  {
   "cell_type": "code",
   "execution_count": 30,
   "id": "db078b77",
   "metadata": {},
   "outputs": [
    {
     "name": "stdout",
     "output_type": "stream",
     "text": [
      "-21 -93\n"
     ]
    }
   ],
   "source": [
    "# Python program to print negative Numbers in a List\n",
    " \n",
    "# list of numbers\n",
    "list1 = [11, -21, 0, 45, 66, -93]\n",
    "res=[]\n",
    "list2=list(map(str,list1))\n",
    "for i in range(0,len(list2)):\n",
    "    if(list2[i].startswith(\"-\")):\n",
    "        res.append(str(list1[i]))\n",
    "res=\" \".join(res)\n",
    "print(res)"
   ]
  },
  {
   "cell_type": "markdown",
   "id": "29a90e7f",
   "metadata": {},
   "source": [
    "**19.Python program to print all positive numbers in a range**\n",
    "\n",
    "Input: start = -4, end = 5\n",
    "Output: 0, 1, 2, 3, 4, 5 \n",
    "\n",
    "Input: start = -3, end = 4\n",
    "Output: 0, 1, 2, 3, 4"
   ]
  },
  {
   "cell_type": "code",
   "execution_count": 31,
   "id": "33ca7402",
   "metadata": {},
   "outputs": [
    {
     "name": "stdout",
     "output_type": "stream",
     "text": [
      "0 1 2 3 4 5 6 7 8 9 10 11 12 13 14 15 16 17 18 19 "
     ]
    }
   ],
   "source": [
    "start, end = -4, 19\n",
    " \n",
    "# iterating each number in list\n",
    "for num in range(start, end + 1):\n",
    "     \n",
    "    # checking condition\n",
    "    if num >= 0:\n",
    "        print(num, end = \" \")"
   ]
  },
  {
   "cell_type": "code",
   "execution_count": 32,
   "id": "d26ed385",
   "metadata": {},
   "outputs": [
    {
     "name": "stdout",
     "output_type": "stream",
     "text": [
      "Enter the start of range: 1\n",
      "Enter the end of range: 12\n",
      "1 2 3 4 5 6 7 8 9 10 11 12 "
     ]
    }
   ],
   "source": [
    "# Python program to print positive Numbers in given range\n",
    " \n",
    "start = int(input(\"Enter the start of range: \"))\n",
    "end = int(input(\"Enter the end of range: \"))\n",
    " \n",
    "# iterating each number in list\n",
    "for num in range(start, end + 1):\n",
    "     \n",
    "    # checking condition\n",
    "    if num >= 0:\n",
    "        print(num, end = \" \")"
   ]
  },
  {
   "cell_type": "code",
   "execution_count": 33,
   "id": "3da0afdb",
   "metadata": {},
   "outputs": [
    {
     "name": "stdout",
     "output_type": "stream",
     "text": [
      "[0, 1, 2, 3, 4, 5]\n"
     ]
    }
   ],
   "source": [
    "# Python code To print all positive numbers\n",
    "# in a given range using the lambda function\n",
    "a=-4;b=5\n",
    "li=[]\n",
    "for i in range(a,b+1):\n",
    "    li.append(i)\n",
    "# printing positive numbers using the lambda function\n",
    "positive_num = list(filter(lambda x: (x>=0),li)) \n",
    "print(positive_num)"
   ]
  },
  {
   "cell_type": "code",
   "execution_count": 34,
   "id": "cb242846",
   "metadata": {},
   "outputs": [
    {
     "name": "stdout",
     "output_type": "stream",
     "text": [
      "1 2 3 4 5\n"
     ]
    }
   ],
   "source": [
    "# Python code\n",
    "# To print all positive numbers in a given range\n",
    "a=-4;b=5\n",
    "out=[i for i in range(a,b+1) if i>0]\n",
    "  # print the all positive numbers\n",
    "print(*out)"
   ]
  },
  {
   "cell_type": "code",
   "execution_count": 35,
   "id": "146a57e4",
   "metadata": {},
   "outputs": [
    {
     "name": "stdout",
     "output_type": "stream",
     "text": [
      "[0, 1, 2, 3, 4, 5]\n"
     ]
    }
   ],
   "source": [
    "a=-4;b=5;l=[]\n",
    "for i in range(a,b+1):\n",
    "  l.append(i)\n",
    "print([a for j,a in enumerate(l) if a>=0])"
   ]
  },
  {
   "cell_type": "markdown",
   "id": "9e600fa1",
   "metadata": {},
   "source": [
    "**20.Python program to print all negative numbers in a range**\n",
    "\n",
    "Input: a = -4, b = 5\n",
    "Output: -4, -3, -2, -1\n",
    "\n",
    "Input: a = -3, b= 4\n",
    "Output: -3, -2, -1"
   ]
  },
  {
   "cell_type": "code",
   "execution_count": 36,
   "id": "a2e5bdac",
   "metadata": {},
   "outputs": [
    {
     "name": "stdout",
     "output_type": "stream",
     "text": [
      "-4 -3 -2 -1\n"
     ]
    }
   ],
   "source": [
    "# Python code\n",
    "# To print all negative numbers in a given range\n",
    " \n",
    " \n",
    "def negativenumbers(a,b):\n",
    "  # Checking condition for negative numbers\n",
    "  # single line solution\n",
    "  out=[i for i in range(a,b+1) if i<0]\n",
    "  # print the all negative numbers\n",
    "  print(*out)\n",
    " \n",
    "# driver code\n",
    "# a -> start range\n",
    "a=-4\n",
    "# b -> end range\n",
    "b=5\n",
    "negativenumbers(a,b)"
   ]
  },
  {
   "cell_type": "code",
   "execution_count": 37,
   "id": "83c61dac",
   "metadata": {},
   "outputs": [
    {
     "name": "stdout",
     "output_type": "stream",
     "text": [
      "-4 -3 -2 -1 "
     ]
    }
   ],
   "source": [
    "# Python program to print negative Numbers in given range\n",
    " \n",
    "start, end = -4, 19\n",
    " \n",
    "# iterating each number in list\n",
    "for num in range(start, end + 1):\n",
    "     \n",
    "    # checking condition\n",
    "    if num < 0:\n",
    "        print(num, end = \" \")"
   ]
  },
  {
   "cell_type": "code",
   "execution_count": 38,
   "id": "510a70b8",
   "metadata": {},
   "outputs": [
    {
     "name": "stdout",
     "output_type": "stream",
     "text": [
      "Enter the start of range: -15\n",
      "Enter the end of range: 5\n",
      "-15 -14 -13 -12 -11 -10 -9 -8 -7 -6 -5 -4 -3 -2 -1 "
     ]
    }
   ],
   "source": [
    "# Python program to print negative Numbers in given range\n",
    " \n",
    "start = int(input(\"Enter the start of range: \"))\n",
    "end = int(input(\"Enter the end of range: \"))\n",
    " \n",
    "# iterating each number in list\n",
    "for num in range(start, end + 1):\n",
    "     \n",
    "    # checking condition\n",
    "    if num < 0:\n",
    "        print(num, end = \" \")"
   ]
  },
  {
   "cell_type": "code",
   "execution_count": 39,
   "id": "d39b1738",
   "metadata": {},
   "outputs": [
    {
     "name": "stdout",
     "output_type": "stream",
     "text": [
      "[-4, -3, -2, -1]\n"
     ]
    }
   ],
   "source": [
    "# Python code To print all negative\n",
    "# numbers in a given range using lambda function\n",
    " \n",
    "# inputs\n",
    "a=-4;b=5\n",
    "li=[]\n",
    "for i in range(a,b):\n",
    "    li.append(i)\n",
    "# printing negative numbers using the lambda function\n",
    "negative_num = list(filter(lambda x: (x<0),li)) \n",
    "print(negative_num)"
   ]
  },
  {
   "cell_type": "code",
   "execution_count": 40,
   "id": "99ea1a99",
   "metadata": {},
   "outputs": [
    {
     "name": "stdout",
     "output_type": "stream",
     "text": [
      "[-4, -3, -2, -1]\n"
     ]
    }
   ],
   "source": [
    "a=-4;b=5;l=[]\n",
    "for i in range(a,b+1):\n",
    "  l.append(i)\n",
    "print([a for j,a in enumerate(l) if a<0])"
   ]
  },
  {
   "cell_type": "code",
   "execution_count": 41,
   "id": "bb4194fc",
   "metadata": {},
   "outputs": [
    {
     "name": "stdout",
     "output_type": "stream",
     "text": [
      "[-4, -3, -2, -1]\n"
     ]
    }
   ],
   "source": [
    "a=-4;b=5\n",
    "print([i for i in range(a,b+1) if i<0])"
   ]
  },
  {
   "cell_type": "markdown",
   "id": "d5b7cb65",
   "metadata": {},
   "source": [
    "**21.Remove multiple elements from a list in Python**\n",
    "\n",
    "\n",
    "Input: [12, 15, 3, 10]\n",
    "Output: Remove = [12, 3], New_List = [15, 10]\n",
    "\n",
    "Input: [11, 5, 17, 18, 23, 50]\n",
    "Output: Remove = [1:5], New_list = [11, 50]"
   ]
  },
  {
   "cell_type": "code",
   "execution_count": 1,
   "id": "9834fe7b",
   "metadata": {},
   "outputs": [
    {
     "name": "stdout",
     "output_type": "stream",
     "text": [
      "New list after removing all even numbers:  [11, 5, 17, 23]\n"
     ]
    }
   ],
   "source": [
    "# Python program to remove multiple\n",
    "# elements from a list\n",
    " \n",
    "# creating a list\n",
    "list1 = [11, 5, 17, 18, 23, 50]\n",
    " \n",
    "# Iterate each element in list\n",
    "# and add them in variable total\n",
    "for ele in list1:\n",
    "    if ele % 2 == 0:\n",
    "        list1.remove(ele)\n",
    " \n",
    "# printing modified list\n",
    "print(\"New list after removing all even numbers: \", list1)"
   ]
  },
  {
   "cell_type": "code",
   "execution_count": 2,
   "id": "2e5d5334",
   "metadata": {},
   "outputs": [
    {
     "name": "stdout",
     "output_type": "stream",
     "text": [
      "11 5 17 23\n"
     ]
    }
   ],
   "source": [
    "# Python program to remove multiple\n",
    "# elements from a list\n",
    " \n",
    "# creating a list\n",
    "list1 = [11, 5, 17, 18, 23, 50]\n",
    " \n",
    "# will create a new list,\n",
    "# excluding all even numbers\n",
    "list1 = [ elem for elem in list1 if elem % 2 != 0]\n",
    " \n",
    "print(*list1)"
   ]
  },
  {
   "cell_type": "code",
   "execution_count": 3,
   "id": "f2770ed7",
   "metadata": {},
   "outputs": [
    {
     "name": "stdout",
     "output_type": "stream",
     "text": [
      "11 50\n"
     ]
    }
   ],
   "source": [
    "# Python program to remove multiple\n",
    "# elements from a list\n",
    " \n",
    "# creating a list\n",
    "list1 = [11, 5, 17, 18, 23, 50]\n",
    " \n",
    "# removes elements from index 1 to 4\n",
    "# i.e. 5, 17, 18, 23 will be deleted\n",
    "del list1[1:5]\n",
    " \n",
    "print(*list1)"
   ]
  },
  {
   "cell_type": "code",
   "execution_count": 4,
   "id": "5783f212",
   "metadata": {},
   "outputs": [
    {
     "name": "stdout",
     "output_type": "stream",
     "text": [
      "New list after removing unwanted numbers:  [17, 18, 23, 50]\n"
     ]
    }
   ],
   "source": [
    "# Python program to remove multiple\n",
    "# elements from a list\n",
    " \n",
    "# creating a list\n",
    "list1 = [11, 5, 17, 18, 23, 50]\n",
    " \n",
    "# items to be removed\n",
    "unwanted_num = {11, 5}\n",
    " \n",
    "list1 = [ele for ele in list1 if ele not in unwanted_num]\n",
    " \n",
    "# printing modified list\n",
    "print(\"New list after removing unwanted numbers: \", list1)"
   ]
  },
  {
   "cell_type": "code",
   "execution_count": 5,
   "id": "82e8cdb5",
   "metadata": {},
   "outputs": [
    {
     "name": "stdout",
     "output_type": "stream",
     "text": [
      "5 17 50\n"
     ]
    }
   ],
   "source": [
    "# Python program to remove multiple\n",
    "# elements from a list\n",
    " \n",
    "# creating a list\n",
    "list1 = [11, 5, 17, 18, 23, 50]\n",
    " \n",
    "# given index of elements\n",
    "# removes 11, 18, 23\n",
    "unwanted = [0, 3, 4]\n",
    " \n",
    "for ele in sorted(unwanted, reverse = True):\n",
    "    del list1[ele]\n",
    " \n",
    "# printing modified list\n",
    "print (*list1)"
   ]
  },
  {
   "cell_type": "markdown",
   "id": "d67c7f01",
   "metadata": {},
   "source": [
    "**22.Remove empty List from List**"
   ]
  },
  {
   "cell_type": "code",
   "execution_count": 6,
   "id": "a1d9b004",
   "metadata": {},
   "outputs": [
    {
     "name": "stdout",
     "output_type": "stream",
     "text": [
      "The original list is : [5, 6, [], 3, [], [], 9]\n",
      "List after empty list removal : [5, 6, 3, 9]\n"
     ]
    }
   ],
   "source": [
    "# Python3 code to Demonstrate Remove empty List\n",
    "# from List using list comprehension\n",
    " \n",
    "# Initializing list\n",
    "test_list = [5, 6, [], 3, [], [], 9]\n",
    " \n",
    "# printing original list\n",
    "print(\"The original list is : \" + str(test_list))\n",
    " \n",
    "# Remove empty List from List\n",
    "# using list comprehension\n",
    "res = [ele for ele in test_list if ele != []]\n",
    " \n",
    "# printing result\n",
    "print(\"List after empty list removal : \" + str(res))"
   ]
  },
  {
   "cell_type": "code",
   "execution_count": 7,
   "id": "1f9fd21a",
   "metadata": {},
   "outputs": [
    {
     "name": "stdout",
     "output_type": "stream",
     "text": [
      "The original list is : [5, 6, [], 3, [], [], 9]\n",
      "List after empty list removal : [5, 6, 3, 9]\n"
     ]
    }
   ],
   "source": [
    "# Python3 Code to Demonstrate Remove empty List\n",
    "# from List using filter() Method\n",
    " \n",
    "# Initializing list by custom values\n",
    "test_list = [5, 6, [], 3, [], [], 9]\n",
    " \n",
    "# Printing original list\n",
    "print(\"The original list is : \" + str(test_list))\n",
    " \n",
    "# Removing empty List from List\n",
    "# using filter() method\n",
    "res = list(filter(None, test_list))\n",
    " \n",
    "# Printing the resultant list\n",
    "print(\"List after empty list removal : \" + str(res))"
   ]
  },
  {
   "cell_type": "code",
   "execution_count": 8,
   "id": "1af9bef8",
   "metadata": {},
   "outputs": [
    {
     "name": "stdout",
     "output_type": "stream",
     "text": [
      "The original list is : [5, 6, [], 3, [], [], 9]\n",
      "List after empty list removal : [5, 6, 3, 9]\n"
     ]
    }
   ],
   "source": [
    "# Python Code to Remove empty List from List\n",
    " \n",
    "def empty_list_remove(input_list):\n",
    "    new_list = []\n",
    "    for ele in input_list:\n",
    "        if ele:\n",
    "            new_list.append(ele)\n",
    "    return new_list\n",
    " \n",
    " \n",
    "# input list values\n",
    "input_list = [5, 6, [], 3, [], [], 9]\n",
    " \n",
    "# print initial list values\n",
    "print(f\"The original list is : {input_list}\")\n",
    "# function-call & print values\n",
    "print(f\"List after empty list removal : {empty_list_remove(input_list)}\")"
   ]
  },
  {
   "cell_type": "code",
   "execution_count": 9,
   "id": "4976ad10",
   "metadata": {},
   "outputs": [
    {
     "name": "stdout",
     "output_type": "stream",
     "text": [
      "The original list is : [5, 6, [], 3, [], [], 9]\n",
      "List after empty list removal : [5, 6, 3, 9]\n"
     ]
    }
   ],
   "source": [
    "# Python3 code to Demonstrate Remove empty List\n",
    " \n",
    "# Initializing list\n",
    "test_list = [5, 6, [], 3, [], [], 9]\n",
    " \n",
    "# printing original list\n",
    "print(\"The original list is : \" + str(test_list))\n",
    "new_list=[]\n",
    "# Remove empty List from List\n",
    "for i in test_list:\n",
    "    x=str(type(i))\n",
    "    if(x.find('list')!=-1):\n",
    "        if(len(i)!=0):\n",
    "            new_list.append(i)\n",
    "    else:\n",
    "        new_list.append(i)\n",
    "# printing result\n",
    "print(\"List after empty list removal : \" + str(new_list))"
   ]
  },
  {
   "cell_type": "code",
   "execution_count": 10,
   "id": "38dd35d2",
   "metadata": {},
   "outputs": [
    {
     "name": "stdout",
     "output_type": "stream",
     "text": [
      "The original list is : [5, 6, [], 3, [], [], 9]\n",
      "List after empty list removal : [5, 6, 3, 9]\n"
     ]
    }
   ],
   "source": [
    "# Python3 code to Demonstrate Remove empty List\n",
    " \n",
    "# Initializing list\n",
    "test_list = [5, 6, [], 3, [], [], 9]\n",
    " \n",
    "# printing original list\n",
    "print(\"The original list is : \" + str(test_list))\n",
    " \n",
    "# Remove empty List from List\n",
    "while [] in test_list :\n",
    "    test_list.remove([])\n",
    " \n",
    "# printing result\n",
    "print(\"List after empty list removal : \" + str(test_list))"
   ]
  },
  {
   "cell_type": "code",
   "execution_count": 11,
   "id": "1d516f0f",
   "metadata": {},
   "outputs": [
    {
     "name": "stdout",
     "output_type": "stream",
     "text": [
      "The original list is : [5, 6, [], 3, [], [], 9]\n",
      "List after empty list removal : [5, 6, 3, 9]\n"
     ]
    }
   ],
   "source": [
    "# Python3 code to Demonstrate Remove empty List\n",
    " \n",
    "# Initializing list\n",
    "test_list = [5, 6, [], 3, [], [], 9]\n",
    " \n",
    "# printing original list\n",
    "print(\"The original list is : \" + str(test_list))\n",
    "x=list(map(str,test_list))\n",
    "y=\"\".join(x)\n",
    "y=y.replace(\"[]\",\"\")\n",
    "y=list(map(int,y))\n",
    " \n",
    "# printing result\n",
    "print(\"List after empty list removal : \" + str(y))"
   ]
  },
  {
   "cell_type": "markdown",
   "id": "a9681545",
   "metadata": {},
   "source": [
    "**23.Cloning or Copying a list**"
   ]
  },
  {
   "cell_type": "code",
   "execution_count": 12,
   "id": "dfcced86",
   "metadata": {},
   "outputs": [
    {
     "name": "stdout",
     "output_type": "stream",
     "text": [
      "Original List: [4, 8, 2, 10, 15, 18]\n",
      "After Cloning: [4, 8, 2, 10, 15, 18]\n"
     ]
    }
   ],
   "source": [
    "##1. Using the slicing technique\n",
    "\n",
    "# Python program to copy or clone a list\n",
    "# Using the Slice Operator\n",
    "def Cloning(li1):\n",
    "    li_copy = li1[:]\n",
    "    return li_copy\n",
    " \n",
    " \n",
    "# Driver Code\n",
    "li1 = [4, 8, 2, 10, 15, 18]\n",
    "li2 = Cloning(li1)\n",
    "print(\"Original List:\", li1)\n",
    "print(\"After Cloning:\", li2)"
   ]
  },
  {
   "cell_type": "code",
   "execution_count": 13,
   "id": "c9f272e3",
   "metadata": {},
   "outputs": [
    {
     "name": "stdout",
     "output_type": "stream",
     "text": [
      "Original List: [4, 8, 2, 10, 15, 18]\n",
      "After Cloning: [4, 8, 2, 10, 15, 18]\n"
     ]
    }
   ],
   "source": [
    "##2. Using the extend() method\n",
    "\n",
    "# Python code to clone or copy a list\n",
    "# Using the in-built function extend()\n",
    "def Cloning(li1):\n",
    "    li_copy = []\n",
    "    li_copy.extend(li1)\n",
    "    return li_copy\n",
    "   \n",
    "# Driver Code\n",
    "li1 = [4, 8, 2, 10, 15, 18]\n",
    "li2 = Cloning(li1)\n",
    "print(\"Original List:\", li1)\n",
    "print(\"After Cloning:\", li2)"
   ]
  },
  {
   "cell_type": "code",
   "execution_count": 14,
   "id": "f182fc46",
   "metadata": {},
   "outputs": [
    {
     "name": "stdout",
     "output_type": "stream",
     "text": [
      "Original List: [4, 8, 2, 10, 15, 18]\n",
      "After Cloning: [4, 8, 2, 10, 15, 18]\n"
     ]
    }
   ],
   "source": [
    "##3. List copy using =(assignment operator)\n",
    "\n",
    "# Python code to clone or copy a list\n",
    "# Using the List copy using =\n",
    "def Cloning(li1):\n",
    "    li_copy = li1\n",
    "    return li_copy\n",
    "   \n",
    "# Driver Code\n",
    "li1 = [4, 8, 2, 10, 15, 18]\n",
    "li2 = Cloning(li1)\n",
    "print(\"Original List:\", li1)\n",
    "print(\"After Cloning:\", li2)"
   ]
  },
  {
   "cell_type": "code",
   "execution_count": 15,
   "id": "a58e040a",
   "metadata": {},
   "outputs": [
    {
     "name": "stdout",
     "output_type": "stream",
     "text": [
      "[1, 2, [3, 5], 4]\n"
     ]
    }
   ],
   "source": [
    "##4. Using the method of Shallow Copy \n",
    "\n",
    "# importing copy module\n",
    "import copy\n",
    "   \n",
    "# initializing list 1\n",
    "li1 = [1, 2, [3,5], 4]\n",
    "   \n",
    "# using copy for shallow copy \n",
    "li2 = copy.copy(li1)\n",
    " \n",
    "print(li2)"
   ]
  },
  {
   "cell_type": "code",
   "execution_count": 16,
   "id": "ee3a1f4e",
   "metadata": {},
   "outputs": [
    {
     "name": "stdout",
     "output_type": "stream",
     "text": [
      "Original List: [4, 8, 2, 10, 15, 18]\n",
      "After Cloning: [4, 8, 2, 10, 15, 18]\n"
     ]
    }
   ],
   "source": [
    "##5. Using list comprehension\n",
    "\n",
    "# Python code to clone or copy a list\n",
    "# Using list comprehension\n",
    "def Cloning(li1):\n",
    "    li_copy = [i for i in li1]\n",
    "    return li_copy\n",
    "   \n",
    "# Driver Code\n",
    "li1 = [4, 8, 2, 10, 15, 18]\n",
    "li2 = Cloning(li1)\n",
    "print(\"Original List:\", li1)\n",
    "print(\"After Cloning:\", li2)"
   ]
  },
  {
   "cell_type": "code",
   "execution_count": 17,
   "id": "50898ee1",
   "metadata": {},
   "outputs": [
    {
     "name": "stdout",
     "output_type": "stream",
     "text": [
      "Original List: [4, 8, 2, 10, 15, 18]\n",
      "After Cloning: [4, 8, 2, 10, 15, 18]\n"
     ]
    }
   ],
   "source": [
    "##6. Using the append() method\n",
    "\n",
    "# Python code to clone or copy a list\n",
    "# Using append()\n",
    "def Cloning(li1):\n",
    "    li_copy =[]\n",
    "    for item in li1: li_copy.append(item)\n",
    "    return li_copy\n",
    "   \n",
    "# Driver Code\n",
    "li1 = [4, 8, 2, 10, 15, 18]\n",
    "li2 = Cloning(li1)\n",
    "print(\"Original List:\", li1)\n",
    "print(\"After Cloning:\", li2)"
   ]
  },
  {
   "cell_type": "code",
   "execution_count": 18,
   "id": "236cfde2",
   "metadata": {},
   "outputs": [
    {
     "name": "stdout",
     "output_type": "stream",
     "text": [
      "Original List: [4, 8, 2, 10, 15, 18]\n",
      "After Cloning: [4, 8, 2, 10, 15, 18]\n"
     ]
    }
   ],
   "source": [
    "##7. Using the copy() method \n",
    "\n",
    "# Python code to clone or copy a list\n",
    "# Using bilt-in method copy()\n",
    "def Cloning(li1):\n",
    "    li_copy =[]\n",
    "    li_copy = li1.copy()\n",
    "    return li_copy\n",
    "   \n",
    "# Driver Code\n",
    "li1 = [4, 8, 2, 10, 15, 18]\n",
    "li2 = Cloning(li1)\n",
    "print(\"Original List:\", li1)\n",
    "print(\"After Cloning:\", li2)"
   ]
  },
  {
   "cell_type": "code",
   "execution_count": 19,
   "id": "7c32371e",
   "metadata": {},
   "outputs": [
    {
     "name": "stdout",
     "output_type": "stream",
     "text": [
      "[1, 2, [3, 5], 4]\n"
     ]
    }
   ],
   "source": [
    "##8. Using the method of Deep Copy \n",
    "\n",
    "# importing copy module\n",
    "import copy\n",
    "   \n",
    "# initializing list 1\n",
    "li1 = [1, 2, [3,5], 4]\n",
    " \n",
    "# using deepcopy for deepcopy \n",
    "li3 = copy.deepcopy(li1)\n",
    "print(li3)"
   ]
  },
  {
   "cell_type": "markdown",
   "id": "48ddea44",
   "metadata": {},
   "source": [
    "**24.Count occurrences of an element in a list**\n",
    "\n",
    "Input : lst = [15, 6, 7, 10, 12, 20, 10, 28, 10]\n",
    "         x = 10\n",
    "Output : 3 \n",
    "10 appears three times in given list.\n",
    "\n",
    "Input : lst = [8, 6, 8, 10, 8, 20, 10, 8, 8]\n",
    "        x = 16\n",
    "Output : 0"
   ]
  },
  {
   "cell_type": "code",
   "execution_count": 20,
   "id": "df513645",
   "metadata": {},
   "outputs": [
    {
     "name": "stdout",
     "output_type": "stream",
     "text": [
      "8 has occurred 5 times\n"
     ]
    }
   ],
   "source": [
    "##Method 1: Count Occurrences of Element in Python List using a loop in\n",
    "\n",
    "# Python code to count the number of occurrences\n",
    "def countX(lst, x):\n",
    "    count = 0\n",
    "    for ele in lst:\n",
    "        if (ele == x):\n",
    "            count = count + 1\n",
    "    return count\n",
    " \n",
    "# Driver Code\n",
    "lst = [8, 6, 8, 10, 8, 20, 10, 8, 8]\n",
    "x = 8\n",
    "print('{} has occurred {} times'.format(x, countX(lst, x)))"
   ]
  },
  {
   "cell_type": "code",
   "execution_count": 21,
   "id": "194c8aba",
   "metadata": {},
   "outputs": [
    {
     "name": "stdout",
     "output_type": "stream",
     "text": [
      "8 has occurred 5 times\n"
     ]
    }
   ],
   "source": [
    "##Method 2: Count Occurrences of Element in Python List using count()\n",
    "\n",
    "\n",
    "# Python code to count the number of occurrences\n",
    "def countX(lst, x):\n",
    "    return lst.count(x)\n",
    " \n",
    "# Driver Code\n",
    "lst = [8, 6, 8, 10, 8, 20, 10, 8, 8]\n",
    "x = 8\n",
    "print('{} has occurred {} times'.format(x, countX(lst, x)))"
   ]
  },
  {
   "cell_type": "code",
   "execution_count": 22,
   "id": "627b8846",
   "metadata": {},
   "outputs": [
    {
     "name": "stdout",
     "output_type": "stream",
     "text": [
      "3 has occurred 2 times\n"
     ]
    }
   ],
   "source": [
    "##Method 3: Count Occurrences of Element in Python List using Counter()\n",
    "\n",
    "from collections import Counter\n",
    " \n",
    "# declaring the list\n",
    "l = [1, 1, 2, 2, 3, 3, 4, 4, 5, 5]\n",
    " \n",
    "# driver program\n",
    "x = 3\n",
    "d = Counter(l)\n",
    "print('{} has occurred {} times'.format(x, d[x]))"
   ]
  },
  {
   "cell_type": "code",
   "execution_count": 23,
   "id": "f04008f4",
   "metadata": {},
   "outputs": [
    {
     "name": "stdout",
     "output_type": "stream",
     "text": [
      "2 has occurred 3 times\n"
     ]
    }
   ],
   "source": [
    "##Method 4: Count Occurrences of Element in Python List using countof() method\n",
    "\n",
    "import operator as op\n",
    " \n",
    "# declaring the list\n",
    "l = [1, 1, 2, 2, 2, 3, 3, 4, 4, 5, 5]\n",
    " \n",
    "# driver program\n",
    "x = 2\n",
    "print(f\"{x} has occurred {op.countOf(l, x)} times\")\n"
   ]
  },
  {
   "cell_type": "code",
   "execution_count": 24,
   "id": "bfe889b3",
   "metadata": {},
   "outputs": [
    {
     "name": "stdout",
     "output_type": "stream",
     "text": [
      "1\n"
     ]
    }
   ],
   "source": [
    "##Method 5: Count the Number of Occurrences using a dictionary comprehension\n",
    "\n",
    "lis = ['a', 'd', 'd', 'c', 'a', 'b', 'b', 'a', 'c', 'd', 'e']\n",
    "occurrence = {item: lis.count(item) for item in lis}\n",
    "print(occurrence.get('e'))"
   ]
  },
  {
   "cell_type": "code",
   "execution_count": null,
   "id": "2226981f",
   "metadata": {},
   "outputs": [],
   "source": []
  },
  {
   "cell_type": "code",
   "execution_count": null,
   "id": "deafd437",
   "metadata": {},
   "outputs": [],
   "source": []
  },
  {
   "cell_type": "code",
   "execution_count": null,
   "id": "1731bf27",
   "metadata": {},
   "outputs": [],
   "source": []
  }
 ],
 "metadata": {
  "kernelspec": {
   "display_name": "Python 3 (ipykernel)",
   "language": "python",
   "name": "python3"
  },
  "language_info": {
   "codemirror_mode": {
    "name": "ipython",
    "version": 3
   },
   "file_extension": ".py",
   "mimetype": "text/x-python",
   "name": "python",
   "nbconvert_exporter": "python",
   "pygments_lexer": "ipython3",
   "version": "3.10.8"
  }
 },
 "nbformat": 4,
 "nbformat_minor": 5
}
